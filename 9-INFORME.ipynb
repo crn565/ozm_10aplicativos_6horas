{
 "cells": [
  {
   "cell_type": "markdown",
   "id": "e41242a9",
   "metadata": {},
   "source": [
    "#  Informe de consumo "
   ]
  },
  {
   "cell_type": "markdown",
   "id": "45b7896c",
   "metadata": {},
   "source": [
    "Tras obtener todas las metricas  del mejor modelo es hora de presentar un resumen del los resultados obtenidos\n",
    "con el mejor algoritmo entrenado con un tiempo determinado y con un diferente metodo de interpolacion.\n",
    "\n",
    "Destacar que todos los resultados de las prediciones los salvamos en la ruta : C:/Users/USUARIO/jupyter_notebooks/segundo_experimento_datos_acoplados_temporalmente-main/data/NILM/Results\n",
    "\n",
    "Asimismo los resultados ademas de presentarlos en este cuaderno lo salvamos en:\n",
    "c:/Users/USUAIO/jupyter_notebooks/segundo_experimento_datos_acoplados_temporalmente-main/data/results.htm\n"
   ]
  },
  {
   "cell_type": "markdown",
   "id": "98c315ab",
   "metadata": {},
   "source": [
    "En primer lugar, debemos cargar las librerías como plotly, nilmtk,pandas, datetime y codecs."
   ]
  },
  {
   "cell_type": "code",
   "execution_count": 10,
   "id": "9bdb316b",
   "metadata": {},
   "outputs": [],
   "source": [
    "import pandas as pd\n",
    "import datetime\n",
    "import codecs\n",
    "from plotly.io import to_html\n",
    "import matplotlib.pyplot as plt\n",
    "import plotly.graph_objects as go\n",
    "import plotly.express as px \n",
    "from plotly.subplots import make_subplots\n",
    "from nilmtk import DataSet\n",
    "import warnings\n",
    "from IPython.display import SVG\n",
    "\n",
    "warnings. filterwarnings(\"ignore\")\n",
    "plt.style.use('bmh')\n"
   ]
  },
  {
   "cell_type": "markdown",
   "id": "264a3491",
   "metadata": {},
   "source": [
    "## Breve explicacion de la función de informe\n",
    "Creamos una función que recupera las prediciones del mejor modelo y sobre esta calcula el total de energia  y potencia consumida. \n",
    "\n",
    "Ademas ofrece otros datos interesantes como son el periodo de inicio y fin ,la tasa de muestreo , etc.\n",
    "\n",
    "Asimismo tambien sacamos la grafica del consumo desagregado de los difrenetes aplicativos frente a a la lectura del contador principal.\n",
    "\n",
    "Como relevante, sacamos toda la información interesante,tambien en un fichero en formato  html, que se ira sobreescribiendo a medida que ejecutemos este cuaderno. "
   ]
  },
  {
   "cell_type": "code",
   "execution_count": 11,
   "id": "d4f84f77",
   "metadata": {},
   "outputs": [],
   "source": [
    "def report():\n",
    "        \n",
    "    #Tomamos la mejor prediccion, que para este segundo experimento de datos sincronizados temporalmente sin tomar los \n",
    "    #transitorios es la siguinte combinación:\n",
    "    # -algoritmo FHMM  \n",
    "    # -el mejor tiempo de muestreo(60seg) \n",
    "    # -el mejor metodo de interpolacion (metodo first)\n",
    "    \n",
    "    results = DataSet('./data/NILM/Results/FHMM_60s_first_pred.h5')   \n",
    "    #ruta del fichero de salida \n",
    "    html_dir =('./data/results.htm')   \n",
    "\n",
    "    \n",
    "    labels = ['Main', 'Electric furnace', 'Microwave','Television','Kettle','Vacuum cleaner','Electric space heater','Electric shower heater','Fan','Fridge','Freezer'] #etiquetas\n",
    "    \n",
    "    results_elec = results.buildings[1].elec\n",
    "    \n",
    "    print (results_elec) #pintamos los diferentes aplicativos con sus asociaciones\n",
    "   \n",
    "   \n",
    "    #pie\n",
    "    df1=pd.DataFrame(results_elec.submeters().fraction_per_meter(), columns=['Fracción'])\n",
    "    df1['Energía']=round(df1['Fracción']*results_elec.total_energy()[0],1)\n",
    "\n",
    "    \n",
    "    fig1 = make_subplots(rows=1, cols=2, specs=[[{'type':'domain'}, {'type':'domain'}]])\n",
    "    fig1.add_trace(go.Pie(values=df1['Fracción'], name='Porcentaje', hoverinfo=\"label+percent+name\",\n",
    "                          textinfo='label+percent', labels=labels, sort=False), 1, 1)\n",
    "    fig1.add_trace(go.Pie(values=df1['Energía'], name='Energía', hoverinfo=\"label+value+name\", textinfo='label+value',\n",
    "                          labels=labels, sort=False, texttemplate=\"%{value:.1f} kWh\"), 1, 2)\n",
    "    fig1.update_traces(hole=.3)\n",
    "    fig1.update_layout(width=900, height=450,\n",
    "         annotations=[dict(text='%', x=0.21, y=0.5, font_size=22, showarrow=False),\n",
    "                      dict(text='kWh', x=0.81, y=0.5, font_size=22, showarrow=False)])\n",
    "    \n",
    "    fig1.show() #pintamos el resultado por pantalla\n",
    "    pie=fig1.to_html()# convertimos el grafico en un objeto para poderlo copiar en un fichero html\n",
    "   \n",
    "    \n",
    "    #lines\n",
    "    df2=results_elec.select(instance=[2,3,4,5,6,7,8,9,10,11]).dataframe_of_meters(ac_type='active')\n",
    "    df2.columns=labels[:10] #old 5\n",
    "    fig2=px.line(df2, width=900, height=500,labels={'variable':'Dispositivos', 'index':'Fecha', 'value':'Potencia (W)'})\n",
    "  \n",
    "    fig2.show() #pintamos el resultado por pantalla\n",
    "    lines=fig2.to_html() # convertimos el grafico en un objeto para poderlo copiar en un fichero html\n",
    "   \n",
    "    \n",
    "    #metadata\n",
    "    date=results.metadata['date'] #recuperamos del dataset la fecha\n",
    "    date=datetime.datetime.strptime(date,'%Y-%m-%dT%H:%M:%S').strftime('%d/%m/%Y %H:%M:%S')\n",
    "    \n",
    "    sample_period=results.metadata['meter_devices']['mains']['sample_period'] #recuperamos del dataset el tiempo de muestreo\n",
    "    sample_period =str (sample_period)+ 'segundos'\n",
    "    print ('Sample_period:',sample_period)\n",
    "    \n",
    "    start=results.metadata['timeframe']['start'] #recuperamos del dataset la hora de inicio\n",
    "    start=datetime.datetime.strptime(start,'%Y-%m-%dT%H:%M:%S+01:00').strftime('%d/%m/%Y %H:%M:%S')\n",
    "    print ('Start:',start)\n",
    "    \n",
    "    end=results.metadata['timeframe']['end'] #recuperamos del dataset la hora de finalizacion\n",
    "    end=datetime.datetime.strptime(end,'%Y-%m-%dT%H:%M:%S+01:00').strftime('%d/%m/%Y %H:%M:%S')\n",
    "    print ('End:',end)\n",
    "\n",
    "\n",
    "    \n",
    "    \n",
    "    #a continuacion creamos una cadena en formato HTML estatico que incluye \n",
    "    #los graficos y los datos mas relevantes recuperados del dataset    \n",
    "    \n",
    "    msg =\"\"\"\n",
    "    <html>\n",
    "    <meta name=\"viewport\" content=\"width=device-width, initial-scale=1\">\n",
    "    <link rel=\"stylesheet\" href=\"https://www.w3schools.com/w3css/4/w3.css\">\n",
    "    <head>  <meta http-equiv=\"content-type\" content=\"text/html; charset=UTF-8\"> </head>\n",
    "       <body>\n",
    "        <h1><td><img src=\"logotipo.png\" width=\"160\" ></td><b>&nbsp;&nbsp;&nbsp;&nbsp;&nbsp;&nbsp;&nbsp; Desagregación Consumo energético con OZM y NILMTK</b></h1>\n",
    "          <br>  \n",
    "        <h4><b>&nbsp;&nbsp;&nbsp;&nbsp;&nbsp;&nbsp;&nbsp; Localización y fecha</b></h4>\n",
    "      \n",
    "        <table >\n",
    "          <tbody>\n",
    "            <tr>\n",
    "            <td>&nbsp;&nbsp;&nbsp;&nbsp;&nbsp;&nbsp;&nbsp;</td>\n",
    "             <td>Local:</td> <td>Laboratorio Electrotecnia Escuela Politecnica </td> </tr>\n",
    "             <tr>\n",
    "             <td>&nbsp;&nbsp;&nbsp;&nbsp;&nbsp;&nbsp;&nbsp;</td>\n",
    "                        <td >Fecha:          </td>     <td >\"\"\"+date+\"\"\" </td>\n",
    "            </tr>\n",
    "          </tbody>\n",
    "        </table>\n",
    "        <h4><b>&nbsp;&nbsp;&nbsp;&nbsp;&nbsp;&nbsp;&nbsp; Energía Consumida</b></h4>\n",
    "        <table >\n",
    "          <tbody>\n",
    "            <tr>\n",
    "            <td>&nbsp;&nbsp;&nbsp;&nbsp;&nbsp;&nbsp;&nbsp;</td>\n",
    "              <td >Fecha\n",
    "                Inicio:</td>\n",
    "              <td >\"\"\"+start+\"\"\"<br>\n",
    "                </td>\n",
    "            </tr>\n",
    "            <tr>\n",
    "            <td></td>\n",
    "              <td >Fecha Fin:</td>\n",
    "              <td >\"\"\"+end+\"\"\"<br>\n",
    "                </td>\n",
    "            </tr>\n",
    "            <tr>\n",
    "            <td></td>\n",
    "              <td >Periodo de\n",
    "                muestreo:</td>\n",
    "              <td >\"\"\"+sample_period+\"\"\"<br>\n",
    "              </td>\n",
    "            </tr>\n",
    "          </tbody>\n",
    "        </table>\n",
    "        <p></p>\n",
    "        <h4><b>&nbsp;&nbsp;&nbsp;&nbsp;&nbsp;&nbsp;&nbsp;Gráfico de energía desagregada</b></h4>\n",
    "        \"\"\"+pie+\"\"\"\n",
    "        <h4><b>&nbsp;&nbsp;&nbsp;&nbsp;&nbsp;&nbsp;&nbsp;Gráfico de potencia instantánea desagregada</b> </h4>\n",
    "        \"\"\"+lines+\"\"\"\n",
    "        <p><br>\n",
    "        </p>\n",
    "        <p>&nbsp;&nbsp;&nbsp;&nbsp;&nbsp;&nbsp;&nbsp;Se puede encontrar mas información en  <a href=\"https://github.com/crn565/segundo_experimento_datos_acoplados_temporalmente\">github.com/crn565\n",
    "                  </a></p>\n",
    "       &nbsp;&nbsp;&nbsp;&nbsp;&nbsp;&nbsp;&nbsp; Octubre 2022 by CRN<span><br>\n",
    "        </span><br>\n",
    "        <br>\n",
    "      </body>\n",
    "     </html>\"\"\"\n",
    "\n",
    "    with codecs.open(html_dir, 'w', encoding='utf8') as f:\n",
    "        f.write(msg)     #escribimos la cadena msg en el fichero de salida\n",
    "        f.close()        #cerramos el fichero\n",
    "    return print('!El informe  ya se ha creado!')\n",
    "    \n",
    "    "
   ]
  },
  {
   "cell_type": "code",
   "execution_count": 12,
   "id": "297c09eb",
   "metadata": {
    "scrolled": true
   },
   "outputs": [
    {
     "name": "stdout",
     "output_type": "stream",
     "text": [
      "MeterGroup(meters=\n",
      "  ElecMeter(instance=1, building=1, dataset='FHMM', site_meter, appliances=[])\n",
      "  ElecMeter(instance=2, building=1, dataset='FHMM', appliances=[Appliance(type='electric furnace', instance=1)])\n",
      "  ElecMeter(instance=3, building=1, dataset='FHMM', appliances=[Appliance(type='microwave', instance=1)])\n",
      "  ElecMeter(instance=4, building=1, dataset='FHMM', appliances=[Appliance(type='television', instance=1)])\n",
      "  ElecMeter(instance=5, building=1, dataset='FHMM', appliances=[Appliance(type='kettle', instance=1)])\n",
      "  ElecMeter(instance=6, building=1, dataset='FHMM', appliances=[Appliance(type='vacuum cleaner', instance=1)])\n",
      "  ElecMeter(instance=7, building=1, dataset='FHMM', appliances=[Appliance(type='electric space heater', instance=1)])\n",
      "  ElecMeter(instance=8, building=1, dataset='FHMM', appliances=[Appliance(type='electric shower heater', instance=1)])\n",
      "  ElecMeter(instance=9, building=1, dataset='FHMM', appliances=[Appliance(type='fan', instance=1)])\n",
      "  ElecMeter(instance=10, building=1, dataset='FHMM', appliances=[Appliance(type='fridge', instance=1)])\n",
      "  ElecMeter(instance=11, building=1, dataset='FHMM', appliances=[Appliance(type='freezer', instance=1)])\n",
      ")\n",
      "Calculating total_energy for ElecMeterID(instance=11, building=1, dataset='FHMM') ...   ezer', instance=1)])instance=1)])ElecMeterID(instance=1, building=1, dataset='FHMM') ...   for ElecMeterID(instance=7, building=1, dataset='FHMM') ...   "
     ]
    },
    {
     "data": {
      "application/vnd.plotly.v1+json": {
       "config": {
        "plotlyServerURL": "https://plot.ly"
       },
       "data": [
        {
         "domain": {
          "x": [
           0,
           0.45
          ],
          "y": [
           0,
           1
          ]
         },
         "hole": 0.3,
         "hoverinfo": "label+percent+name",
         "labels": [
          "Main",
          "Electric furnace",
          "Microwave",
          "Television",
          "Kettle",
          "Vacuum cleaner",
          "Electric space heater",
          "Electric shower heater",
          "Fan",
          "Fridge",
          "Freezer"
         ],
         "name": "Porcentaje",
         "sort": false,
         "textinfo": "label+percent",
         "type": "pie",
         "values": [
          0,
          0,
          0.036941403291331,
          0,
          0,
          0,
          0.9281140260276802,
          0.03494457068098878,
          0,
          0
         ]
        },
        {
         "domain": {
          "x": [
           0.55,
           1
          ],
          "y": [
           0,
           1
          ]
         },
         "hole": 0.3,
         "hoverinfo": "label+value+name",
         "labels": [
          "Main",
          "Electric furnace",
          "Microwave",
          "Television",
          "Kettle",
          "Vacuum cleaner",
          "Electric space heater",
          "Electric shower heater",
          "Fan",
          "Fridge",
          "Freezer"
         ],
         "name": "Energía",
         "sort": false,
         "textinfo": "label+value",
         "texttemplate": "%{value:.1f} kWh",
         "type": "pie",
         "values": [
          0,
          0,
          0.1,
          0,
          0,
          0,
          1.3,
          0,
          0,
          0
         ]
        }
       ],
       "layout": {
        "annotations": [
         {
          "font": {
           "size": 22
          },
          "showarrow": false,
          "text": "%",
          "x": 0.21,
          "y": 0.5
         },
         {
          "font": {
           "size": 22
          },
          "showarrow": false,
          "text": "kWh",
          "x": 0.81,
          "y": 0.5
         }
        ],
        "height": 450,
        "template": {
         "data": {
          "bar": [
           {
            "error_x": {
             "color": "#2a3f5f"
            },
            "error_y": {
             "color": "#2a3f5f"
            },
            "marker": {
             "line": {
              "color": "#E5ECF6",
              "width": 0.5
             },
             "pattern": {
              "fillmode": "overlay",
              "size": 10,
              "solidity": 0.2
             }
            },
            "type": "bar"
           }
          ],
          "barpolar": [
           {
            "marker": {
             "line": {
              "color": "#E5ECF6",
              "width": 0.5
             },
             "pattern": {
              "fillmode": "overlay",
              "size": 10,
              "solidity": 0.2
             }
            },
            "type": "barpolar"
           }
          ],
          "carpet": [
           {
            "aaxis": {
             "endlinecolor": "#2a3f5f",
             "gridcolor": "white",
             "linecolor": "white",
             "minorgridcolor": "white",
             "startlinecolor": "#2a3f5f"
            },
            "baxis": {
             "endlinecolor": "#2a3f5f",
             "gridcolor": "white",
             "linecolor": "white",
             "minorgridcolor": "white",
             "startlinecolor": "#2a3f5f"
            },
            "type": "carpet"
           }
          ],
          "choropleth": [
           {
            "colorbar": {
             "outlinewidth": 0,
             "ticks": ""
            },
            "type": "choropleth"
           }
          ],
          "contour": [
           {
            "colorbar": {
             "outlinewidth": 0,
             "ticks": ""
            },
            "colorscale": [
             [
              0,
              "#0d0887"
             ],
             [
              0.1111111111111111,
              "#46039f"
             ],
             [
              0.2222222222222222,
              "#7201a8"
             ],
             [
              0.3333333333333333,
              "#9c179e"
             ],
             [
              0.4444444444444444,
              "#bd3786"
             ],
             [
              0.5555555555555556,
              "#d8576b"
             ],
             [
              0.6666666666666666,
              "#ed7953"
             ],
             [
              0.7777777777777778,
              "#fb9f3a"
             ],
             [
              0.8888888888888888,
              "#fdca26"
             ],
             [
              1,
              "#f0f921"
             ]
            ],
            "type": "contour"
           }
          ],
          "contourcarpet": [
           {
            "colorbar": {
             "outlinewidth": 0,
             "ticks": ""
            },
            "type": "contourcarpet"
           }
          ],
          "heatmap": [
           {
            "colorbar": {
             "outlinewidth": 0,
             "ticks": ""
            },
            "colorscale": [
             [
              0,
              "#0d0887"
             ],
             [
              0.1111111111111111,
              "#46039f"
             ],
             [
              0.2222222222222222,
              "#7201a8"
             ],
             [
              0.3333333333333333,
              "#9c179e"
             ],
             [
              0.4444444444444444,
              "#bd3786"
             ],
             [
              0.5555555555555556,
              "#d8576b"
             ],
             [
              0.6666666666666666,
              "#ed7953"
             ],
             [
              0.7777777777777778,
              "#fb9f3a"
             ],
             [
              0.8888888888888888,
              "#fdca26"
             ],
             [
              1,
              "#f0f921"
             ]
            ],
            "type": "heatmap"
           }
          ],
          "heatmapgl": [
           {
            "colorbar": {
             "outlinewidth": 0,
             "ticks": ""
            },
            "colorscale": [
             [
              0,
              "#0d0887"
             ],
             [
              0.1111111111111111,
              "#46039f"
             ],
             [
              0.2222222222222222,
              "#7201a8"
             ],
             [
              0.3333333333333333,
              "#9c179e"
             ],
             [
              0.4444444444444444,
              "#bd3786"
             ],
             [
              0.5555555555555556,
              "#d8576b"
             ],
             [
              0.6666666666666666,
              "#ed7953"
             ],
             [
              0.7777777777777778,
              "#fb9f3a"
             ],
             [
              0.8888888888888888,
              "#fdca26"
             ],
             [
              1,
              "#f0f921"
             ]
            ],
            "type": "heatmapgl"
           }
          ],
          "histogram": [
           {
            "marker": {
             "pattern": {
              "fillmode": "overlay",
              "size": 10,
              "solidity": 0.2
             }
            },
            "type": "histogram"
           }
          ],
          "histogram2d": [
           {
            "colorbar": {
             "outlinewidth": 0,
             "ticks": ""
            },
            "colorscale": [
             [
              0,
              "#0d0887"
             ],
             [
              0.1111111111111111,
              "#46039f"
             ],
             [
              0.2222222222222222,
              "#7201a8"
             ],
             [
              0.3333333333333333,
              "#9c179e"
             ],
             [
              0.4444444444444444,
              "#bd3786"
             ],
             [
              0.5555555555555556,
              "#d8576b"
             ],
             [
              0.6666666666666666,
              "#ed7953"
             ],
             [
              0.7777777777777778,
              "#fb9f3a"
             ],
             [
              0.8888888888888888,
              "#fdca26"
             ],
             [
              1,
              "#f0f921"
             ]
            ],
            "type": "histogram2d"
           }
          ],
          "histogram2dcontour": [
           {
            "colorbar": {
             "outlinewidth": 0,
             "ticks": ""
            },
            "colorscale": [
             [
              0,
              "#0d0887"
             ],
             [
              0.1111111111111111,
              "#46039f"
             ],
             [
              0.2222222222222222,
              "#7201a8"
             ],
             [
              0.3333333333333333,
              "#9c179e"
             ],
             [
              0.4444444444444444,
              "#bd3786"
             ],
             [
              0.5555555555555556,
              "#d8576b"
             ],
             [
              0.6666666666666666,
              "#ed7953"
             ],
             [
              0.7777777777777778,
              "#fb9f3a"
             ],
             [
              0.8888888888888888,
              "#fdca26"
             ],
             [
              1,
              "#f0f921"
             ]
            ],
            "type": "histogram2dcontour"
           }
          ],
          "mesh3d": [
           {
            "colorbar": {
             "outlinewidth": 0,
             "ticks": ""
            },
            "type": "mesh3d"
           }
          ],
          "parcoords": [
           {
            "line": {
             "colorbar": {
              "outlinewidth": 0,
              "ticks": ""
             }
            },
            "type": "parcoords"
           }
          ],
          "pie": [
           {
            "automargin": true,
            "type": "pie"
           }
          ],
          "scatter": [
           {
            "fillpattern": {
             "fillmode": "overlay",
             "size": 10,
             "solidity": 0.2
            },
            "type": "scatter"
           }
          ],
          "scatter3d": [
           {
            "line": {
             "colorbar": {
              "outlinewidth": 0,
              "ticks": ""
             }
            },
            "marker": {
             "colorbar": {
              "outlinewidth": 0,
              "ticks": ""
             }
            },
            "type": "scatter3d"
           }
          ],
          "scattercarpet": [
           {
            "marker": {
             "colorbar": {
              "outlinewidth": 0,
              "ticks": ""
             }
            },
            "type": "scattercarpet"
           }
          ],
          "scattergeo": [
           {
            "marker": {
             "colorbar": {
              "outlinewidth": 0,
              "ticks": ""
             }
            },
            "type": "scattergeo"
           }
          ],
          "scattergl": [
           {
            "marker": {
             "colorbar": {
              "outlinewidth": 0,
              "ticks": ""
             }
            },
            "type": "scattergl"
           }
          ],
          "scattermapbox": [
           {
            "marker": {
             "colorbar": {
              "outlinewidth": 0,
              "ticks": ""
             }
            },
            "type": "scattermapbox"
           }
          ],
          "scatterpolar": [
           {
            "marker": {
             "colorbar": {
              "outlinewidth": 0,
              "ticks": ""
             }
            },
            "type": "scatterpolar"
           }
          ],
          "scatterpolargl": [
           {
            "marker": {
             "colorbar": {
              "outlinewidth": 0,
              "ticks": ""
             }
            },
            "type": "scatterpolargl"
           }
          ],
          "scatterternary": [
           {
            "marker": {
             "colorbar": {
              "outlinewidth": 0,
              "ticks": ""
             }
            },
            "type": "scatterternary"
           }
          ],
          "surface": [
           {
            "colorbar": {
             "outlinewidth": 0,
             "ticks": ""
            },
            "colorscale": [
             [
              0,
              "#0d0887"
             ],
             [
              0.1111111111111111,
              "#46039f"
             ],
             [
              0.2222222222222222,
              "#7201a8"
             ],
             [
              0.3333333333333333,
              "#9c179e"
             ],
             [
              0.4444444444444444,
              "#bd3786"
             ],
             [
              0.5555555555555556,
              "#d8576b"
             ],
             [
              0.6666666666666666,
              "#ed7953"
             ],
             [
              0.7777777777777778,
              "#fb9f3a"
             ],
             [
              0.8888888888888888,
              "#fdca26"
             ],
             [
              1,
              "#f0f921"
             ]
            ],
            "type": "surface"
           }
          ],
          "table": [
           {
            "cells": {
             "fill": {
              "color": "#EBF0F8"
             },
             "line": {
              "color": "white"
             }
            },
            "header": {
             "fill": {
              "color": "#C8D4E3"
             },
             "line": {
              "color": "white"
             }
            },
            "type": "table"
           }
          ]
         },
         "layout": {
          "annotationdefaults": {
           "arrowcolor": "#2a3f5f",
           "arrowhead": 0,
           "arrowwidth": 1
          },
          "autotypenumbers": "strict",
          "coloraxis": {
           "colorbar": {
            "outlinewidth": 0,
            "ticks": ""
           }
          },
          "colorscale": {
           "diverging": [
            [
             0,
             "#8e0152"
            ],
            [
             0.1,
             "#c51b7d"
            ],
            [
             0.2,
             "#de77ae"
            ],
            [
             0.3,
             "#f1b6da"
            ],
            [
             0.4,
             "#fde0ef"
            ],
            [
             0.5,
             "#f7f7f7"
            ],
            [
             0.6,
             "#e6f5d0"
            ],
            [
             0.7,
             "#b8e186"
            ],
            [
             0.8,
             "#7fbc41"
            ],
            [
             0.9,
             "#4d9221"
            ],
            [
             1,
             "#276419"
            ]
           ],
           "sequential": [
            [
             0,
             "#0d0887"
            ],
            [
             0.1111111111111111,
             "#46039f"
            ],
            [
             0.2222222222222222,
             "#7201a8"
            ],
            [
             0.3333333333333333,
             "#9c179e"
            ],
            [
             0.4444444444444444,
             "#bd3786"
            ],
            [
             0.5555555555555556,
             "#d8576b"
            ],
            [
             0.6666666666666666,
             "#ed7953"
            ],
            [
             0.7777777777777778,
             "#fb9f3a"
            ],
            [
             0.8888888888888888,
             "#fdca26"
            ],
            [
             1,
             "#f0f921"
            ]
           ],
           "sequentialminus": [
            [
             0,
             "#0d0887"
            ],
            [
             0.1111111111111111,
             "#46039f"
            ],
            [
             0.2222222222222222,
             "#7201a8"
            ],
            [
             0.3333333333333333,
             "#9c179e"
            ],
            [
             0.4444444444444444,
             "#bd3786"
            ],
            [
             0.5555555555555556,
             "#d8576b"
            ],
            [
             0.6666666666666666,
             "#ed7953"
            ],
            [
             0.7777777777777778,
             "#fb9f3a"
            ],
            [
             0.8888888888888888,
             "#fdca26"
            ],
            [
             1,
             "#f0f921"
            ]
           ]
          },
          "colorway": [
           "#636efa",
           "#EF553B",
           "#00cc96",
           "#ab63fa",
           "#FFA15A",
           "#19d3f3",
           "#FF6692",
           "#B6E880",
           "#FF97FF",
           "#FECB52"
          ],
          "font": {
           "color": "#2a3f5f"
          },
          "geo": {
           "bgcolor": "white",
           "lakecolor": "white",
           "landcolor": "#E5ECF6",
           "showlakes": true,
           "showland": true,
           "subunitcolor": "white"
          },
          "hoverlabel": {
           "align": "left"
          },
          "hovermode": "closest",
          "mapbox": {
           "style": "light"
          },
          "paper_bgcolor": "white",
          "plot_bgcolor": "#E5ECF6",
          "polar": {
           "angularaxis": {
            "gridcolor": "white",
            "linecolor": "white",
            "ticks": ""
           },
           "bgcolor": "#E5ECF6",
           "radialaxis": {
            "gridcolor": "white",
            "linecolor": "white",
            "ticks": ""
           }
          },
          "scene": {
           "xaxis": {
            "backgroundcolor": "#E5ECF6",
            "gridcolor": "white",
            "gridwidth": 2,
            "linecolor": "white",
            "showbackground": true,
            "ticks": "",
            "zerolinecolor": "white"
           },
           "yaxis": {
            "backgroundcolor": "#E5ECF6",
            "gridcolor": "white",
            "gridwidth": 2,
            "linecolor": "white",
            "showbackground": true,
            "ticks": "",
            "zerolinecolor": "white"
           },
           "zaxis": {
            "backgroundcolor": "#E5ECF6",
            "gridcolor": "white",
            "gridwidth": 2,
            "linecolor": "white",
            "showbackground": true,
            "ticks": "",
            "zerolinecolor": "white"
           }
          },
          "shapedefaults": {
           "line": {
            "color": "#2a3f5f"
           }
          },
          "ternary": {
           "aaxis": {
            "gridcolor": "white",
            "linecolor": "white",
            "ticks": ""
           },
           "baxis": {
            "gridcolor": "white",
            "linecolor": "white",
            "ticks": ""
           },
           "bgcolor": "#E5ECF6",
           "caxis": {
            "gridcolor": "white",
            "linecolor": "white",
            "ticks": ""
           }
          },
          "title": {
           "x": 0.05
          },
          "xaxis": {
           "automargin": true,
           "gridcolor": "white",
           "linecolor": "white",
           "ticks": "",
           "title": {
            "standoff": 15
           },
           "zerolinecolor": "white",
           "zerolinewidth": 2
          },
          "yaxis": {
           "automargin": true,
           "gridcolor": "white",
           "linecolor": "white",
           "ticks": "",
           "title": {
            "standoff": 15
           },
           "zerolinecolor": "white",
           "zerolinewidth": 2
          }
         }
        },
        "width": 900
       }
      },
      "text/html": [
       "<div>                            <div id=\"a5d8de76-725e-427c-8b76-1ae68018fdf9\" class=\"plotly-graph-div\" style=\"height:450px; width:900px;\"></div>            <script type=\"text/javascript\">                require([\"plotly\"], function(Plotly) {                    window.PLOTLYENV=window.PLOTLYENV || {};                                    if (document.getElementById(\"a5d8de76-725e-427c-8b76-1ae68018fdf9\")) {                    Plotly.newPlot(                        \"a5d8de76-725e-427c-8b76-1ae68018fdf9\",                        [{\"hoverinfo\":\"label+percent+name\",\"labels\":[\"Main\",\"Electric furnace\",\"Microwave\",\"Television\",\"Kettle\",\"Vacuum cleaner\",\"Electric space heater\",\"Electric shower heater\",\"Fan\",\"Fridge\",\"Freezer\"],\"name\":\"Porcentaje\",\"sort\":false,\"textinfo\":\"label+percent\",\"values\":[0.0,0.0,0.036941403291331,0.0,0.0,0.0,0.9281140260276802,0.03494457068098878,0.0,0.0],\"type\":\"pie\",\"domain\":{\"x\":[0.0,0.45],\"y\":[0.0,1.0]},\"hole\":0.3},{\"hoverinfo\":\"label+value+name\",\"labels\":[\"Main\",\"Electric furnace\",\"Microwave\",\"Television\",\"Kettle\",\"Vacuum cleaner\",\"Electric space heater\",\"Electric shower heater\",\"Fan\",\"Fridge\",\"Freezer\"],\"name\":\"Energ\\u00eda\",\"sort\":false,\"textinfo\":\"label+value\",\"texttemplate\":\"%{value:.1f} kWh\",\"values\":[0.0,0.0,0.1,0.0,0.0,0.0,1.3,0.0,0.0,0.0],\"type\":\"pie\",\"domain\":{\"x\":[0.55,1.0],\"y\":[0.0,1.0]},\"hole\":0.3}],                        {\"template\":{\"data\":{\"histogram2dcontour\":[{\"type\":\"histogram2dcontour\",\"colorbar\":{\"outlinewidth\":0,\"ticks\":\"\"},\"colorscale\":[[0.0,\"#0d0887\"],[0.1111111111111111,\"#46039f\"],[0.2222222222222222,\"#7201a8\"],[0.3333333333333333,\"#9c179e\"],[0.4444444444444444,\"#bd3786\"],[0.5555555555555556,\"#d8576b\"],[0.6666666666666666,\"#ed7953\"],[0.7777777777777778,\"#fb9f3a\"],[0.8888888888888888,\"#fdca26\"],[1.0,\"#f0f921\"]]}],\"choropleth\":[{\"type\":\"choropleth\",\"colorbar\":{\"outlinewidth\":0,\"ticks\":\"\"}}],\"histogram2d\":[{\"type\":\"histogram2d\",\"colorbar\":{\"outlinewidth\":0,\"ticks\":\"\"},\"colorscale\":[[0.0,\"#0d0887\"],[0.1111111111111111,\"#46039f\"],[0.2222222222222222,\"#7201a8\"],[0.3333333333333333,\"#9c179e\"],[0.4444444444444444,\"#bd3786\"],[0.5555555555555556,\"#d8576b\"],[0.6666666666666666,\"#ed7953\"],[0.7777777777777778,\"#fb9f3a\"],[0.8888888888888888,\"#fdca26\"],[1.0,\"#f0f921\"]]}],\"heatmap\":[{\"type\":\"heatmap\",\"colorbar\":{\"outlinewidth\":0,\"ticks\":\"\"},\"colorscale\":[[0.0,\"#0d0887\"],[0.1111111111111111,\"#46039f\"],[0.2222222222222222,\"#7201a8\"],[0.3333333333333333,\"#9c179e\"],[0.4444444444444444,\"#bd3786\"],[0.5555555555555556,\"#d8576b\"],[0.6666666666666666,\"#ed7953\"],[0.7777777777777778,\"#fb9f3a\"],[0.8888888888888888,\"#fdca26\"],[1.0,\"#f0f921\"]]}],\"heatmapgl\":[{\"type\":\"heatmapgl\",\"colorbar\":{\"outlinewidth\":0,\"ticks\":\"\"},\"colorscale\":[[0.0,\"#0d0887\"],[0.1111111111111111,\"#46039f\"],[0.2222222222222222,\"#7201a8\"],[0.3333333333333333,\"#9c179e\"],[0.4444444444444444,\"#bd3786\"],[0.5555555555555556,\"#d8576b\"],[0.6666666666666666,\"#ed7953\"],[0.7777777777777778,\"#fb9f3a\"],[0.8888888888888888,\"#fdca26\"],[1.0,\"#f0f921\"]]}],\"contourcarpet\":[{\"type\":\"contourcarpet\",\"colorbar\":{\"outlinewidth\":0,\"ticks\":\"\"}}],\"contour\":[{\"type\":\"contour\",\"colorbar\":{\"outlinewidth\":0,\"ticks\":\"\"},\"colorscale\":[[0.0,\"#0d0887\"],[0.1111111111111111,\"#46039f\"],[0.2222222222222222,\"#7201a8\"],[0.3333333333333333,\"#9c179e\"],[0.4444444444444444,\"#bd3786\"],[0.5555555555555556,\"#d8576b\"],[0.6666666666666666,\"#ed7953\"],[0.7777777777777778,\"#fb9f3a\"],[0.8888888888888888,\"#fdca26\"],[1.0,\"#f0f921\"]]}],\"surface\":[{\"type\":\"surface\",\"colorbar\":{\"outlinewidth\":0,\"ticks\":\"\"},\"colorscale\":[[0.0,\"#0d0887\"],[0.1111111111111111,\"#46039f\"],[0.2222222222222222,\"#7201a8\"],[0.3333333333333333,\"#9c179e\"],[0.4444444444444444,\"#bd3786\"],[0.5555555555555556,\"#d8576b\"],[0.6666666666666666,\"#ed7953\"],[0.7777777777777778,\"#fb9f3a\"],[0.8888888888888888,\"#fdca26\"],[1.0,\"#f0f921\"]]}],\"mesh3d\":[{\"type\":\"mesh3d\",\"colorbar\":{\"outlinewidth\":0,\"ticks\":\"\"}}],\"scatter\":[{\"fillpattern\":{\"fillmode\":\"overlay\",\"size\":10,\"solidity\":0.2},\"type\":\"scatter\"}],\"parcoords\":[{\"type\":\"parcoords\",\"line\":{\"colorbar\":{\"outlinewidth\":0,\"ticks\":\"\"}}}],\"scatterpolargl\":[{\"type\":\"scatterpolargl\",\"marker\":{\"colorbar\":{\"outlinewidth\":0,\"ticks\":\"\"}}}],\"bar\":[{\"error_x\":{\"color\":\"#2a3f5f\"},\"error_y\":{\"color\":\"#2a3f5f\"},\"marker\":{\"line\":{\"color\":\"#E5ECF6\",\"width\":0.5},\"pattern\":{\"fillmode\":\"overlay\",\"size\":10,\"solidity\":0.2}},\"type\":\"bar\"}],\"scattergeo\":[{\"type\":\"scattergeo\",\"marker\":{\"colorbar\":{\"outlinewidth\":0,\"ticks\":\"\"}}}],\"scatterpolar\":[{\"type\":\"scatterpolar\",\"marker\":{\"colorbar\":{\"outlinewidth\":0,\"ticks\":\"\"}}}],\"histogram\":[{\"marker\":{\"pattern\":{\"fillmode\":\"overlay\",\"size\":10,\"solidity\":0.2}},\"type\":\"histogram\"}],\"scattergl\":[{\"type\":\"scattergl\",\"marker\":{\"colorbar\":{\"outlinewidth\":0,\"ticks\":\"\"}}}],\"scatter3d\":[{\"type\":\"scatter3d\",\"line\":{\"colorbar\":{\"outlinewidth\":0,\"ticks\":\"\"}},\"marker\":{\"colorbar\":{\"outlinewidth\":0,\"ticks\":\"\"}}}],\"scattermapbox\":[{\"type\":\"scattermapbox\",\"marker\":{\"colorbar\":{\"outlinewidth\":0,\"ticks\":\"\"}}}],\"scatterternary\":[{\"type\":\"scatterternary\",\"marker\":{\"colorbar\":{\"outlinewidth\":0,\"ticks\":\"\"}}}],\"scattercarpet\":[{\"type\":\"scattercarpet\",\"marker\":{\"colorbar\":{\"outlinewidth\":0,\"ticks\":\"\"}}}],\"carpet\":[{\"aaxis\":{\"endlinecolor\":\"#2a3f5f\",\"gridcolor\":\"white\",\"linecolor\":\"white\",\"minorgridcolor\":\"white\",\"startlinecolor\":\"#2a3f5f\"},\"baxis\":{\"endlinecolor\":\"#2a3f5f\",\"gridcolor\":\"white\",\"linecolor\":\"white\",\"minorgridcolor\":\"white\",\"startlinecolor\":\"#2a3f5f\"},\"type\":\"carpet\"}],\"table\":[{\"cells\":{\"fill\":{\"color\":\"#EBF0F8\"},\"line\":{\"color\":\"white\"}},\"header\":{\"fill\":{\"color\":\"#C8D4E3\"},\"line\":{\"color\":\"white\"}},\"type\":\"table\"}],\"barpolar\":[{\"marker\":{\"line\":{\"color\":\"#E5ECF6\",\"width\":0.5},\"pattern\":{\"fillmode\":\"overlay\",\"size\":10,\"solidity\":0.2}},\"type\":\"barpolar\"}],\"pie\":[{\"automargin\":true,\"type\":\"pie\"}]},\"layout\":{\"autotypenumbers\":\"strict\",\"colorway\":[\"#636efa\",\"#EF553B\",\"#00cc96\",\"#ab63fa\",\"#FFA15A\",\"#19d3f3\",\"#FF6692\",\"#B6E880\",\"#FF97FF\",\"#FECB52\"],\"font\":{\"color\":\"#2a3f5f\"},\"hovermode\":\"closest\",\"hoverlabel\":{\"align\":\"left\"},\"paper_bgcolor\":\"white\",\"plot_bgcolor\":\"#E5ECF6\",\"polar\":{\"bgcolor\":\"#E5ECF6\",\"angularaxis\":{\"gridcolor\":\"white\",\"linecolor\":\"white\",\"ticks\":\"\"},\"radialaxis\":{\"gridcolor\":\"white\",\"linecolor\":\"white\",\"ticks\":\"\"}},\"ternary\":{\"bgcolor\":\"#E5ECF6\",\"aaxis\":{\"gridcolor\":\"white\",\"linecolor\":\"white\",\"ticks\":\"\"},\"baxis\":{\"gridcolor\":\"white\",\"linecolor\":\"white\",\"ticks\":\"\"},\"caxis\":{\"gridcolor\":\"white\",\"linecolor\":\"white\",\"ticks\":\"\"}},\"coloraxis\":{\"colorbar\":{\"outlinewidth\":0,\"ticks\":\"\"}},\"colorscale\":{\"sequential\":[[0.0,\"#0d0887\"],[0.1111111111111111,\"#46039f\"],[0.2222222222222222,\"#7201a8\"],[0.3333333333333333,\"#9c179e\"],[0.4444444444444444,\"#bd3786\"],[0.5555555555555556,\"#d8576b\"],[0.6666666666666666,\"#ed7953\"],[0.7777777777777778,\"#fb9f3a\"],[0.8888888888888888,\"#fdca26\"],[1.0,\"#f0f921\"]],\"sequentialminus\":[[0.0,\"#0d0887\"],[0.1111111111111111,\"#46039f\"],[0.2222222222222222,\"#7201a8\"],[0.3333333333333333,\"#9c179e\"],[0.4444444444444444,\"#bd3786\"],[0.5555555555555556,\"#d8576b\"],[0.6666666666666666,\"#ed7953\"],[0.7777777777777778,\"#fb9f3a\"],[0.8888888888888888,\"#fdca26\"],[1.0,\"#f0f921\"]],\"diverging\":[[0,\"#8e0152\"],[0.1,\"#c51b7d\"],[0.2,\"#de77ae\"],[0.3,\"#f1b6da\"],[0.4,\"#fde0ef\"],[0.5,\"#f7f7f7\"],[0.6,\"#e6f5d0\"],[0.7,\"#b8e186\"],[0.8,\"#7fbc41\"],[0.9,\"#4d9221\"],[1,\"#276419\"]]},\"xaxis\":{\"gridcolor\":\"white\",\"linecolor\":\"white\",\"ticks\":\"\",\"title\":{\"standoff\":15},\"zerolinecolor\":\"white\",\"automargin\":true,\"zerolinewidth\":2},\"yaxis\":{\"gridcolor\":\"white\",\"linecolor\":\"white\",\"ticks\":\"\",\"title\":{\"standoff\":15},\"zerolinecolor\":\"white\",\"automargin\":true,\"zerolinewidth\":2},\"scene\":{\"xaxis\":{\"backgroundcolor\":\"#E5ECF6\",\"gridcolor\":\"white\",\"linecolor\":\"white\",\"showbackground\":true,\"ticks\":\"\",\"zerolinecolor\":\"white\",\"gridwidth\":2},\"yaxis\":{\"backgroundcolor\":\"#E5ECF6\",\"gridcolor\":\"white\",\"linecolor\":\"white\",\"showbackground\":true,\"ticks\":\"\",\"zerolinecolor\":\"white\",\"gridwidth\":2},\"zaxis\":{\"backgroundcolor\":\"#E5ECF6\",\"gridcolor\":\"white\",\"linecolor\":\"white\",\"showbackground\":true,\"ticks\":\"\",\"zerolinecolor\":\"white\",\"gridwidth\":2}},\"shapedefaults\":{\"line\":{\"color\":\"#2a3f5f\"}},\"annotationdefaults\":{\"arrowcolor\":\"#2a3f5f\",\"arrowhead\":0,\"arrowwidth\":1},\"geo\":{\"bgcolor\":\"white\",\"landcolor\":\"#E5ECF6\",\"subunitcolor\":\"white\",\"showland\":true,\"showlakes\":true,\"lakecolor\":\"white\"},\"title\":{\"x\":0.05},\"mapbox\":{\"style\":\"light\"}}},\"width\":900,\"height\":450,\"annotations\":[{\"showarrow\":false,\"text\":\"%\",\"x\":0.21,\"y\":0.5,\"font\":{\"size\":22}},{\"showarrow\":false,\"text\":\"kWh\",\"x\":0.81,\"y\":0.5,\"font\":{\"size\":22}}]},                        {\"responsive\": true}                    ).then(function(){\n",
       "                            \n",
       "var gd = document.getElementById('a5d8de76-725e-427c-8b76-1ae68018fdf9');\n",
       "var x = new MutationObserver(function (mutations, observer) {{\n",
       "        var display = window.getComputedStyle(gd).display;\n",
       "        if (!display || display === 'none') {{\n",
       "            console.log([gd, 'removed!']);\n",
       "            Plotly.purge(gd);\n",
       "            observer.disconnect();\n",
       "        }}\n",
       "}});\n",
       "\n",
       "// Listen for the removal of the full notebook cells\n",
       "var notebookContainer = gd.closest('#notebook-container');\n",
       "if (notebookContainer) {{\n",
       "    x.observe(notebookContainer, {childList: true});\n",
       "}}\n",
       "\n",
       "// Listen for the clearing of the current output cell\n",
       "var outputEl = gd.closest('.output');\n",
       "if (outputEl) {{\n",
       "    x.observe(outputEl, {childList: true});\n",
       "}}\n",
       "\n",
       "                        })                };                });            </script>        </div>"
      ]
     },
     "metadata": {},
     "output_type": "display_data"
    },
    {
     "data": {
      "application/vnd.plotly.v1+json": {
       "config": {
        "plotlyServerURL": "https://plot.ly"
       },
       "data": [
        {
         "hovertemplate": "Dispositivos=Main<br>Fecha=%{x}<br>Potencia (W)=%{y}<extra></extra>",
         "legendgroup": "Main",
         "line": {
          "color": "#636efa",
          "dash": "solid"
         },
         "marker": {
          "symbol": "circle"
         },
         "mode": "lines",
         "name": "Main",
         "orientation": "v",
         "showlegend": true,
         "type": "scatter",
         "x": [
          "2023-03-07T12:10:00+01:00",
          "2023-03-07T12:11:00+01:00",
          "2023-03-07T12:12:00+01:00",
          "2023-03-07T12:13:00+01:00",
          "2023-03-07T12:14:00+01:00",
          "2023-03-07T12:15:00+01:00",
          "2023-03-07T12:16:00+01:00",
          "2023-03-07T12:17:00+01:00",
          "2023-03-07T12:18:00+01:00",
          "2023-03-07T12:19:00+01:00",
          "2023-03-07T12:20:00+01:00",
          "2023-03-07T12:21:00+01:00",
          "2023-03-07T12:22:00+01:00",
          "2023-03-07T12:23:00+01:00",
          "2023-03-07T12:24:00+01:00",
          "2023-03-07T12:25:00+01:00",
          "2023-03-07T12:26:00+01:00",
          "2023-03-07T12:27:00+01:00",
          "2023-03-07T12:28:00+01:00",
          "2023-03-07T12:29:00+01:00",
          "2023-03-07T12:30:00+01:00",
          "2023-03-07T12:31:00+01:00",
          "2023-03-07T12:32:00+01:00",
          "2023-03-07T12:33:00+01:00",
          "2023-03-07T12:34:00+01:00",
          "2023-03-07T12:35:00+01:00",
          "2023-03-07T12:36:00+01:00",
          "2023-03-07T12:37:00+01:00",
          "2023-03-07T12:38:00+01:00",
          "2023-03-07T12:39:00+01:00",
          "2023-03-07T12:40:00+01:00",
          "2023-03-07T12:41:00+01:00"
         ],
         "xaxis": "x",
         "y": [
          353,
          353,
          353,
          353,
          353,
          353,
          353,
          353,
          353,
          353,
          353,
          353,
          353,
          353,
          353,
          353,
          353,
          353,
          353,
          353,
          353,
          353,
          353,
          353,
          353,
          353,
          353,
          353,
          353,
          353,
          353,
          353
         ],
         "yaxis": "y"
        },
        {
         "hovertemplate": "Dispositivos=Electric furnace<br>Fecha=%{x}<br>Potencia (W)=%{y}<extra></extra>",
         "legendgroup": "Electric furnace",
         "line": {
          "color": "#EF553B",
          "dash": "solid"
         },
         "marker": {
          "symbol": "circle"
         },
         "mode": "lines",
         "name": "Electric furnace",
         "orientation": "v",
         "showlegend": true,
         "type": "scatter",
         "x": [
          "2023-03-07T12:10:00+01:00",
          "2023-03-07T12:11:00+01:00",
          "2023-03-07T12:12:00+01:00",
          "2023-03-07T12:13:00+01:00",
          "2023-03-07T12:14:00+01:00",
          "2023-03-07T12:15:00+01:00",
          "2023-03-07T12:16:00+01:00",
          "2023-03-07T12:17:00+01:00",
          "2023-03-07T12:18:00+01:00",
          "2023-03-07T12:19:00+01:00",
          "2023-03-07T12:20:00+01:00",
          "2023-03-07T12:21:00+01:00",
          "2023-03-07T12:22:00+01:00",
          "2023-03-07T12:23:00+01:00",
          "2023-03-07T12:24:00+01:00",
          "2023-03-07T12:25:00+01:00",
          "2023-03-07T12:26:00+01:00",
          "2023-03-07T12:27:00+01:00",
          "2023-03-07T12:28:00+01:00",
          "2023-03-07T12:29:00+01:00",
          "2023-03-07T12:30:00+01:00",
          "2023-03-07T12:31:00+01:00",
          "2023-03-07T12:32:00+01:00",
          "2023-03-07T12:33:00+01:00",
          "2023-03-07T12:34:00+01:00",
          "2023-03-07T12:35:00+01:00",
          "2023-03-07T12:36:00+01:00",
          "2023-03-07T12:37:00+01:00",
          "2023-03-07T12:38:00+01:00",
          "2023-03-07T12:39:00+01:00",
          "2023-03-07T12:40:00+01:00",
          "2023-03-07T12:41:00+01:00"
         ],
         "xaxis": "x",
         "y": [
          277,
          277,
          277,
          277,
          277,
          277,
          277,
          277,
          277,
          277,
          277,
          277,
          277,
          277,
          277,
          277,
          277,
          277,
          277,
          277,
          277,
          277,
          277,
          277,
          277,
          277,
          277,
          277,
          277,
          277,
          277,
          277
         ],
         "yaxis": "y"
        },
        {
         "hovertemplate": "Dispositivos=Microwave<br>Fecha=%{x}<br>Potencia (W)=%{y}<extra></extra>",
         "legendgroup": "Microwave",
         "line": {
          "color": "#00cc96",
          "dash": "solid"
         },
         "marker": {
          "symbol": "circle"
         },
         "mode": "lines",
         "name": "Microwave",
         "orientation": "v",
         "showlegend": true,
         "type": "scatter",
         "x": [
          "2023-03-07T12:10:00+01:00",
          "2023-03-07T12:11:00+01:00",
          "2023-03-07T12:12:00+01:00",
          "2023-03-07T12:13:00+01:00",
          "2023-03-07T12:14:00+01:00",
          "2023-03-07T12:15:00+01:00",
          "2023-03-07T12:16:00+01:00",
          "2023-03-07T12:17:00+01:00",
          "2023-03-07T12:18:00+01:00",
          "2023-03-07T12:19:00+01:00",
          "2023-03-07T12:20:00+01:00",
          "2023-03-07T12:21:00+01:00",
          "2023-03-07T12:22:00+01:00",
          "2023-03-07T12:23:00+01:00",
          "2023-03-07T12:24:00+01:00",
          "2023-03-07T12:25:00+01:00",
          "2023-03-07T12:26:00+01:00",
          "2023-03-07T12:27:00+01:00",
          "2023-03-07T12:28:00+01:00",
          "2023-03-07T12:29:00+01:00",
          "2023-03-07T12:30:00+01:00",
          "2023-03-07T12:31:00+01:00",
          "2023-03-07T12:32:00+01:00",
          "2023-03-07T12:33:00+01:00",
          "2023-03-07T12:34:00+01:00",
          "2023-03-07T12:35:00+01:00",
          "2023-03-07T12:36:00+01:00",
          "2023-03-07T12:37:00+01:00",
          "2023-03-07T12:38:00+01:00",
          "2023-03-07T12:39:00+01:00",
          "2023-03-07T12:40:00+01:00",
          "2023-03-07T12:41:00+01:00"
         ],
         "xaxis": "x",
         "y": [
          4,
          4,
          37,
          37,
          37,
          37,
          4,
          4,
          4,
          4,
          37,
          37,
          4,
          4,
          37,
          37,
          4,
          4,
          4,
          4,
          37,
          37,
          4,
          4,
          4,
          4,
          37,
          37,
          37,
          37,
          4,
          4
         ],
         "yaxis": "y"
        },
        {
         "hovertemplate": "Dispositivos=Television<br>Fecha=%{x}<br>Potencia (W)=%{y}<extra></extra>",
         "legendgroup": "Television",
         "line": {
          "color": "#ab63fa",
          "dash": "solid"
         },
         "marker": {
          "symbol": "circle"
         },
         "mode": "lines",
         "name": "Television",
         "orientation": "v",
         "showlegend": true,
         "type": "scatter",
         "x": [
          "2023-03-07T12:10:00+01:00",
          "2023-03-07T12:11:00+01:00",
          "2023-03-07T12:12:00+01:00",
          "2023-03-07T12:13:00+01:00",
          "2023-03-07T12:14:00+01:00",
          "2023-03-07T12:15:00+01:00",
          "2023-03-07T12:16:00+01:00",
          "2023-03-07T12:17:00+01:00",
          "2023-03-07T12:18:00+01:00",
          "2023-03-07T12:19:00+01:00",
          "2023-03-07T12:20:00+01:00",
          "2023-03-07T12:21:00+01:00",
          "2023-03-07T12:22:00+01:00",
          "2023-03-07T12:23:00+01:00",
          "2023-03-07T12:24:00+01:00",
          "2023-03-07T12:25:00+01:00",
          "2023-03-07T12:26:00+01:00",
          "2023-03-07T12:27:00+01:00",
          "2023-03-07T12:28:00+01:00",
          "2023-03-07T12:29:00+01:00",
          "2023-03-07T12:30:00+01:00",
          "2023-03-07T12:31:00+01:00",
          "2023-03-07T12:32:00+01:00",
          "2023-03-07T12:33:00+01:00",
          "2023-03-07T12:34:00+01:00",
          "2023-03-07T12:35:00+01:00",
          "2023-03-07T12:36:00+01:00",
          "2023-03-07T12:37:00+01:00",
          "2023-03-07T12:38:00+01:00",
          "2023-03-07T12:39:00+01:00",
          "2023-03-07T12:40:00+01:00",
          "2023-03-07T12:41:00+01:00"
         ],
         "xaxis": "x",
         "y": [
          321,
          321,
          321,
          321,
          321,
          321,
          321,
          321,
          321,
          321,
          321,
          321,
          321,
          321,
          321,
          321,
          321,
          321,
          321,
          321,
          321,
          321,
          321,
          321,
          321,
          321,
          321,
          321,
          321,
          321,
          321,
          321
         ],
         "yaxis": "y"
        },
        {
         "hovertemplate": "Dispositivos=Kettle<br>Fecha=%{x}<br>Potencia (W)=%{y}<extra></extra>",
         "legendgroup": "Kettle",
         "line": {
          "color": "#FFA15A",
          "dash": "solid"
         },
         "marker": {
          "symbol": "circle"
         },
         "mode": "lines",
         "name": "Kettle",
         "orientation": "v",
         "showlegend": true,
         "type": "scatter",
         "x": [
          "2023-03-07T12:10:00+01:00",
          "2023-03-07T12:11:00+01:00",
          "2023-03-07T12:12:00+01:00",
          "2023-03-07T12:13:00+01:00",
          "2023-03-07T12:14:00+01:00",
          "2023-03-07T12:15:00+01:00",
          "2023-03-07T12:16:00+01:00",
          "2023-03-07T12:17:00+01:00",
          "2023-03-07T12:18:00+01:00",
          "2023-03-07T12:19:00+01:00",
          "2023-03-07T12:20:00+01:00",
          "2023-03-07T12:21:00+01:00",
          "2023-03-07T12:22:00+01:00",
          "2023-03-07T12:23:00+01:00",
          "2023-03-07T12:24:00+01:00",
          "2023-03-07T12:25:00+01:00",
          "2023-03-07T12:26:00+01:00",
          "2023-03-07T12:27:00+01:00",
          "2023-03-07T12:28:00+01:00",
          "2023-03-07T12:29:00+01:00",
          "2023-03-07T12:30:00+01:00",
          "2023-03-07T12:31:00+01:00",
          "2023-03-07T12:32:00+01:00",
          "2023-03-07T12:33:00+01:00",
          "2023-03-07T12:34:00+01:00",
          "2023-03-07T12:35:00+01:00",
          "2023-03-07T12:36:00+01:00",
          "2023-03-07T12:37:00+01:00",
          "2023-03-07T12:38:00+01:00",
          "2023-03-07T12:39:00+01:00",
          "2023-03-07T12:40:00+01:00",
          "2023-03-07T12:41:00+01:00"
         ],
         "xaxis": "x",
         "y": [
          164,
          164,
          164,
          164,
          164,
          164,
          164,
          164,
          164,
          164,
          164,
          164,
          164,
          164,
          164,
          164,
          164,
          164,
          164,
          164,
          164,
          164,
          164,
          164,
          164,
          164,
          164,
          164,
          164,
          164,
          164,
          164
         ],
         "yaxis": "y"
        },
        {
         "hovertemplate": "Dispositivos=Vacuum cleaner<br>Fecha=%{x}<br>Potencia (W)=%{y}<extra></extra>",
         "legendgroup": "Vacuum cleaner",
         "line": {
          "color": "#19d3f3",
          "dash": "solid"
         },
         "marker": {
          "symbol": "circle"
         },
         "mode": "lines",
         "name": "Vacuum cleaner",
         "orientation": "v",
         "showlegend": true,
         "type": "scatter",
         "x": [
          "2023-03-07T12:10:00+01:00",
          "2023-03-07T12:11:00+01:00",
          "2023-03-07T12:12:00+01:00",
          "2023-03-07T12:13:00+01:00",
          "2023-03-07T12:14:00+01:00",
          "2023-03-07T12:15:00+01:00",
          "2023-03-07T12:16:00+01:00",
          "2023-03-07T12:17:00+01:00",
          "2023-03-07T12:18:00+01:00",
          "2023-03-07T12:19:00+01:00",
          "2023-03-07T12:20:00+01:00",
          "2023-03-07T12:21:00+01:00",
          "2023-03-07T12:22:00+01:00",
          "2023-03-07T12:23:00+01:00",
          "2023-03-07T12:24:00+01:00",
          "2023-03-07T12:25:00+01:00",
          "2023-03-07T12:26:00+01:00",
          "2023-03-07T12:27:00+01:00",
          "2023-03-07T12:28:00+01:00",
          "2023-03-07T12:29:00+01:00",
          "2023-03-07T12:30:00+01:00",
          "2023-03-07T12:31:00+01:00",
          "2023-03-07T12:32:00+01:00",
          "2023-03-07T12:33:00+01:00",
          "2023-03-07T12:34:00+01:00",
          "2023-03-07T12:35:00+01:00",
          "2023-03-07T12:36:00+01:00",
          "2023-03-07T12:37:00+01:00",
          "2023-03-07T12:38:00+01:00",
          "2023-03-07T12:39:00+01:00",
          "2023-03-07T12:40:00+01:00",
          "2023-03-07T12:41:00+01:00"
         ],
         "xaxis": "x",
         "y": [
          353,
          353,
          353,
          353,
          353,
          353,
          353,
          353,
          353,
          353,
          353,
          353,
          353,
          353,
          353,
          353,
          353,
          353,
          353,
          353,
          353,
          353,
          353,
          353,
          353,
          353,
          353,
          353,
          353,
          353,
          353,
          353
         ],
         "yaxis": "y"
        },
        {
         "hovertemplate": "Dispositivos=Electric space heater<br>Fecha=%{x}<br>Potencia (W)=%{y}<extra></extra>",
         "legendgroup": "Electric space heater",
         "line": {
          "color": "#FF6692",
          "dash": "solid"
         },
         "marker": {
          "symbol": "circle"
         },
         "mode": "lines",
         "name": "Electric space heater",
         "orientation": "v",
         "showlegend": true,
         "type": "scatter",
         "x": [
          "2023-03-07T12:10:00+01:00",
          "2023-03-07T12:11:00+01:00",
          "2023-03-07T12:12:00+01:00",
          "2023-03-07T12:13:00+01:00",
          "2023-03-07T12:14:00+01:00",
          "2023-03-07T12:15:00+01:00",
          "2023-03-07T12:16:00+01:00",
          "2023-03-07T12:17:00+01:00",
          "2023-03-07T12:18:00+01:00",
          "2023-03-07T12:19:00+01:00",
          "2023-03-07T12:20:00+01:00",
          "2023-03-07T12:21:00+01:00",
          "2023-03-07T12:22:00+01:00",
          "2023-03-07T12:23:00+01:00",
          "2023-03-07T12:24:00+01:00",
          "2023-03-07T12:25:00+01:00",
          "2023-03-07T12:26:00+01:00",
          "2023-03-07T12:27:00+01:00",
          "2023-03-07T12:28:00+01:00",
          "2023-03-07T12:29:00+01:00",
          "2023-03-07T12:30:00+01:00",
          "2023-03-07T12:31:00+01:00",
          "2023-03-07T12:32:00+01:00",
          "2023-03-07T12:33:00+01:00",
          "2023-03-07T12:34:00+01:00",
          "2023-03-07T12:35:00+01:00",
          "2023-03-07T12:36:00+01:00",
          "2023-03-07T12:37:00+01:00",
          "2023-03-07T12:38:00+01:00",
          "2023-03-07T12:39:00+01:00",
          "2023-03-07T12:40:00+01:00",
          "2023-03-07T12:41:00+01:00"
         ],
         "xaxis": "x",
         "y": [
          9,
          9,
          1160,
          1160,
          9,
          9,
          9,
          9,
          9,
          9,
          1160,
          1160,
          9,
          9,
          1160,
          1160,
          9,
          9,
          9,
          9,
          1160,
          1160,
          9,
          9,
          1159,
          1159,
          9,
          9,
          9,
          9,
          1159,
          1159
         ],
         "yaxis": "y"
        },
        {
         "hovertemplate": "Dispositivos=Electric shower heater<br>Fecha=%{x}<br>Potencia (W)=%{y}<extra></extra>",
         "legendgroup": "Electric shower heater",
         "line": {
          "color": "#B6E880",
          "dash": "solid"
         },
         "marker": {
          "symbol": "circle"
         },
         "mode": "lines",
         "name": "Electric shower heater",
         "orientation": "v",
         "showlegend": true,
         "type": "scatter",
         "x": [
          "2023-03-07T12:10:00+01:00",
          "2023-03-07T12:11:00+01:00",
          "2023-03-07T12:12:00+01:00",
          "2023-03-07T12:13:00+01:00",
          "2023-03-07T12:14:00+01:00",
          "2023-03-07T12:15:00+01:00",
          "2023-03-07T12:16:00+01:00",
          "2023-03-07T12:17:00+01:00",
          "2023-03-07T12:18:00+01:00",
          "2023-03-07T12:19:00+01:00",
          "2023-03-07T12:20:00+01:00",
          "2023-03-07T12:21:00+01:00",
          "2023-03-07T12:22:00+01:00",
          "2023-03-07T12:23:00+01:00",
          "2023-03-07T12:24:00+01:00",
          "2023-03-07T12:25:00+01:00",
          "2023-03-07T12:26:00+01:00",
          "2023-03-07T12:27:00+01:00",
          "2023-03-07T12:28:00+01:00",
          "2023-03-07T12:29:00+01:00",
          "2023-03-07T12:30:00+01:00",
          "2023-03-07T12:31:00+01:00",
          "2023-03-07T12:32:00+01:00",
          "2023-03-07T12:33:00+01:00",
          "2023-03-07T12:34:00+01:00",
          "2023-03-07T12:35:00+01:00",
          "2023-03-07T12:36:00+01:00",
          "2023-03-07T12:37:00+01:00",
          "2023-03-07T12:38:00+01:00",
          "2023-03-07T12:39:00+01:00",
          "2023-03-07T12:40:00+01:00",
          "2023-03-07T12:41:00+01:00"
         ],
         "xaxis": "x",
         "y": [
          8,
          8,
          35,
          35,
          35,
          35,
          8,
          8,
          8,
          8,
          35,
          35,
          8,
          8,
          35,
          35,
          8,
          8,
          34,
          34,
          35,
          35,
          8,
          8,
          8,
          8,
          35,
          35,
          35,
          35,
          8,
          8
         ],
         "yaxis": "y"
        },
        {
         "hovertemplate": "Dispositivos=Fan<br>Fecha=%{x}<br>Potencia (W)=%{y}<extra></extra>",
         "legendgroup": "Fan",
         "line": {
          "color": "#FF97FF",
          "dash": "solid"
         },
         "marker": {
          "symbol": "circle"
         },
         "mode": "lines",
         "name": "Fan",
         "orientation": "v",
         "showlegend": true,
         "type": "scatter",
         "x": [
          "2023-03-07T12:10:00+01:00",
          "2023-03-07T12:11:00+01:00",
          "2023-03-07T12:12:00+01:00",
          "2023-03-07T12:13:00+01:00",
          "2023-03-07T12:14:00+01:00",
          "2023-03-07T12:15:00+01:00",
          "2023-03-07T12:16:00+01:00",
          "2023-03-07T12:17:00+01:00",
          "2023-03-07T12:18:00+01:00",
          "2023-03-07T12:19:00+01:00",
          "2023-03-07T12:20:00+01:00",
          "2023-03-07T12:21:00+01:00",
          "2023-03-07T12:22:00+01:00",
          "2023-03-07T12:23:00+01:00",
          "2023-03-07T12:24:00+01:00",
          "2023-03-07T12:25:00+01:00",
          "2023-03-07T12:26:00+01:00",
          "2023-03-07T12:27:00+01:00",
          "2023-03-07T12:28:00+01:00",
          "2023-03-07T12:29:00+01:00",
          "2023-03-07T12:30:00+01:00",
          "2023-03-07T12:31:00+01:00",
          "2023-03-07T12:32:00+01:00",
          "2023-03-07T12:33:00+01:00",
          "2023-03-07T12:34:00+01:00",
          "2023-03-07T12:35:00+01:00",
          "2023-03-07T12:36:00+01:00",
          "2023-03-07T12:37:00+01:00",
          "2023-03-07T12:38:00+01:00",
          "2023-03-07T12:39:00+01:00",
          "2023-03-07T12:40:00+01:00",
          "2023-03-07T12:41:00+01:00"
         ],
         "xaxis": "x",
         "y": [
          25,
          25,
          25,
          25,
          25,
          25,
          25,
          25,
          25,
          25,
          25,
          25,
          25,
          25,
          25,
          25,
          25,
          25,
          25,
          25,
          25,
          25,
          25,
          25,
          25,
          25,
          25,
          25,
          25,
          25,
          25,
          25
         ],
         "yaxis": "y"
        },
        {
         "hovertemplate": "Dispositivos=Fridge<br>Fecha=%{x}<br>Potencia (W)=%{y}<extra></extra>",
         "legendgroup": "Fridge",
         "line": {
          "color": "#FECB52",
          "dash": "solid"
         },
         "marker": {
          "symbol": "circle"
         },
         "mode": "lines",
         "name": "Fridge",
         "orientation": "v",
         "showlegend": true,
         "type": "scatter",
         "x": [
          "2023-03-07T12:10:00+01:00",
          "2023-03-07T12:11:00+01:00",
          "2023-03-07T12:12:00+01:00",
          "2023-03-07T12:13:00+01:00",
          "2023-03-07T12:14:00+01:00",
          "2023-03-07T12:15:00+01:00",
          "2023-03-07T12:16:00+01:00",
          "2023-03-07T12:17:00+01:00",
          "2023-03-07T12:18:00+01:00",
          "2023-03-07T12:19:00+01:00",
          "2023-03-07T12:20:00+01:00",
          "2023-03-07T12:21:00+01:00",
          "2023-03-07T12:22:00+01:00",
          "2023-03-07T12:23:00+01:00",
          "2023-03-07T12:24:00+01:00",
          "2023-03-07T12:25:00+01:00",
          "2023-03-07T12:26:00+01:00",
          "2023-03-07T12:27:00+01:00",
          "2023-03-07T12:28:00+01:00",
          "2023-03-07T12:29:00+01:00",
          "2023-03-07T12:30:00+01:00",
          "2023-03-07T12:31:00+01:00",
          "2023-03-07T12:32:00+01:00",
          "2023-03-07T12:33:00+01:00",
          "2023-03-07T12:34:00+01:00",
          "2023-03-07T12:35:00+01:00",
          "2023-03-07T12:36:00+01:00",
          "2023-03-07T12:37:00+01:00",
          "2023-03-07T12:38:00+01:00",
          "2023-03-07T12:39:00+01:00",
          "2023-03-07T12:40:00+01:00",
          "2023-03-07T12:41:00+01:00"
         ],
         "xaxis": "x",
         "y": [
          18,
          18,
          18,
          18,
          18,
          18,
          18,
          18,
          18,
          18,
          18,
          18,
          18,
          18,
          18,
          18,
          18,
          18,
          18,
          18,
          18,
          18,
          18,
          18,
          18,
          18,
          18,
          18,
          18,
          18,
          18,
          18
         ],
         "yaxis": "y"
        }
       ],
       "layout": {
        "height": 500,
        "legend": {
         "title": {
          "text": "Dispositivos"
         },
         "tracegroupgap": 0
        },
        "margin": {
         "t": 60
        },
        "template": {
         "data": {
          "bar": [
           {
            "error_x": {
             "color": "#2a3f5f"
            },
            "error_y": {
             "color": "#2a3f5f"
            },
            "marker": {
             "line": {
              "color": "#E5ECF6",
              "width": 0.5
             },
             "pattern": {
              "fillmode": "overlay",
              "size": 10,
              "solidity": 0.2
             }
            },
            "type": "bar"
           }
          ],
          "barpolar": [
           {
            "marker": {
             "line": {
              "color": "#E5ECF6",
              "width": 0.5
             },
             "pattern": {
              "fillmode": "overlay",
              "size": 10,
              "solidity": 0.2
             }
            },
            "type": "barpolar"
           }
          ],
          "carpet": [
           {
            "aaxis": {
             "endlinecolor": "#2a3f5f",
             "gridcolor": "white",
             "linecolor": "white",
             "minorgridcolor": "white",
             "startlinecolor": "#2a3f5f"
            },
            "baxis": {
             "endlinecolor": "#2a3f5f",
             "gridcolor": "white",
             "linecolor": "white",
             "minorgridcolor": "white",
             "startlinecolor": "#2a3f5f"
            },
            "type": "carpet"
           }
          ],
          "choropleth": [
           {
            "colorbar": {
             "outlinewidth": 0,
             "ticks": ""
            },
            "type": "choropleth"
           }
          ],
          "contour": [
           {
            "colorbar": {
             "outlinewidth": 0,
             "ticks": ""
            },
            "colorscale": [
             [
              0,
              "#0d0887"
             ],
             [
              0.1111111111111111,
              "#46039f"
             ],
             [
              0.2222222222222222,
              "#7201a8"
             ],
             [
              0.3333333333333333,
              "#9c179e"
             ],
             [
              0.4444444444444444,
              "#bd3786"
             ],
             [
              0.5555555555555556,
              "#d8576b"
             ],
             [
              0.6666666666666666,
              "#ed7953"
             ],
             [
              0.7777777777777778,
              "#fb9f3a"
             ],
             [
              0.8888888888888888,
              "#fdca26"
             ],
             [
              1,
              "#f0f921"
             ]
            ],
            "type": "contour"
           }
          ],
          "contourcarpet": [
           {
            "colorbar": {
             "outlinewidth": 0,
             "ticks": ""
            },
            "type": "contourcarpet"
           }
          ],
          "heatmap": [
           {
            "colorbar": {
             "outlinewidth": 0,
             "ticks": ""
            },
            "colorscale": [
             [
              0,
              "#0d0887"
             ],
             [
              0.1111111111111111,
              "#46039f"
             ],
             [
              0.2222222222222222,
              "#7201a8"
             ],
             [
              0.3333333333333333,
              "#9c179e"
             ],
             [
              0.4444444444444444,
              "#bd3786"
             ],
             [
              0.5555555555555556,
              "#d8576b"
             ],
             [
              0.6666666666666666,
              "#ed7953"
             ],
             [
              0.7777777777777778,
              "#fb9f3a"
             ],
             [
              0.8888888888888888,
              "#fdca26"
             ],
             [
              1,
              "#f0f921"
             ]
            ],
            "type": "heatmap"
           }
          ],
          "heatmapgl": [
           {
            "colorbar": {
             "outlinewidth": 0,
             "ticks": ""
            },
            "colorscale": [
             [
              0,
              "#0d0887"
             ],
             [
              0.1111111111111111,
              "#46039f"
             ],
             [
              0.2222222222222222,
              "#7201a8"
             ],
             [
              0.3333333333333333,
              "#9c179e"
             ],
             [
              0.4444444444444444,
              "#bd3786"
             ],
             [
              0.5555555555555556,
              "#d8576b"
             ],
             [
              0.6666666666666666,
              "#ed7953"
             ],
             [
              0.7777777777777778,
              "#fb9f3a"
             ],
             [
              0.8888888888888888,
              "#fdca26"
             ],
             [
              1,
              "#f0f921"
             ]
            ],
            "type": "heatmapgl"
           }
          ],
          "histogram": [
           {
            "marker": {
             "pattern": {
              "fillmode": "overlay",
              "size": 10,
              "solidity": 0.2
             }
            },
            "type": "histogram"
           }
          ],
          "histogram2d": [
           {
            "colorbar": {
             "outlinewidth": 0,
             "ticks": ""
            },
            "colorscale": [
             [
              0,
              "#0d0887"
             ],
             [
              0.1111111111111111,
              "#46039f"
             ],
             [
              0.2222222222222222,
              "#7201a8"
             ],
             [
              0.3333333333333333,
              "#9c179e"
             ],
             [
              0.4444444444444444,
              "#bd3786"
             ],
             [
              0.5555555555555556,
              "#d8576b"
             ],
             [
              0.6666666666666666,
              "#ed7953"
             ],
             [
              0.7777777777777778,
              "#fb9f3a"
             ],
             [
              0.8888888888888888,
              "#fdca26"
             ],
             [
              1,
              "#f0f921"
             ]
            ],
            "type": "histogram2d"
           }
          ],
          "histogram2dcontour": [
           {
            "colorbar": {
             "outlinewidth": 0,
             "ticks": ""
            },
            "colorscale": [
             [
              0,
              "#0d0887"
             ],
             [
              0.1111111111111111,
              "#46039f"
             ],
             [
              0.2222222222222222,
              "#7201a8"
             ],
             [
              0.3333333333333333,
              "#9c179e"
             ],
             [
              0.4444444444444444,
              "#bd3786"
             ],
             [
              0.5555555555555556,
              "#d8576b"
             ],
             [
              0.6666666666666666,
              "#ed7953"
             ],
             [
              0.7777777777777778,
              "#fb9f3a"
             ],
             [
              0.8888888888888888,
              "#fdca26"
             ],
             [
              1,
              "#f0f921"
             ]
            ],
            "type": "histogram2dcontour"
           }
          ],
          "mesh3d": [
           {
            "colorbar": {
             "outlinewidth": 0,
             "ticks": ""
            },
            "type": "mesh3d"
           }
          ],
          "parcoords": [
           {
            "line": {
             "colorbar": {
              "outlinewidth": 0,
              "ticks": ""
             }
            },
            "type": "parcoords"
           }
          ],
          "pie": [
           {
            "automargin": true,
            "type": "pie"
           }
          ],
          "scatter": [
           {
            "fillpattern": {
             "fillmode": "overlay",
             "size": 10,
             "solidity": 0.2
            },
            "type": "scatter"
           }
          ],
          "scatter3d": [
           {
            "line": {
             "colorbar": {
              "outlinewidth": 0,
              "ticks": ""
             }
            },
            "marker": {
             "colorbar": {
              "outlinewidth": 0,
              "ticks": ""
             }
            },
            "type": "scatter3d"
           }
          ],
          "scattercarpet": [
           {
            "marker": {
             "colorbar": {
              "outlinewidth": 0,
              "ticks": ""
             }
            },
            "type": "scattercarpet"
           }
          ],
          "scattergeo": [
           {
            "marker": {
             "colorbar": {
              "outlinewidth": 0,
              "ticks": ""
             }
            },
            "type": "scattergeo"
           }
          ],
          "scattergl": [
           {
            "marker": {
             "colorbar": {
              "outlinewidth": 0,
              "ticks": ""
             }
            },
            "type": "scattergl"
           }
          ],
          "scattermapbox": [
           {
            "marker": {
             "colorbar": {
              "outlinewidth": 0,
              "ticks": ""
             }
            },
            "type": "scattermapbox"
           }
          ],
          "scatterpolar": [
           {
            "marker": {
             "colorbar": {
              "outlinewidth": 0,
              "ticks": ""
             }
            },
            "type": "scatterpolar"
           }
          ],
          "scatterpolargl": [
           {
            "marker": {
             "colorbar": {
              "outlinewidth": 0,
              "ticks": ""
             }
            },
            "type": "scatterpolargl"
           }
          ],
          "scatterternary": [
           {
            "marker": {
             "colorbar": {
              "outlinewidth": 0,
              "ticks": ""
             }
            },
            "type": "scatterternary"
           }
          ],
          "surface": [
           {
            "colorbar": {
             "outlinewidth": 0,
             "ticks": ""
            },
            "colorscale": [
             [
              0,
              "#0d0887"
             ],
             [
              0.1111111111111111,
              "#46039f"
             ],
             [
              0.2222222222222222,
              "#7201a8"
             ],
             [
              0.3333333333333333,
              "#9c179e"
             ],
             [
              0.4444444444444444,
              "#bd3786"
             ],
             [
              0.5555555555555556,
              "#d8576b"
             ],
             [
              0.6666666666666666,
              "#ed7953"
             ],
             [
              0.7777777777777778,
              "#fb9f3a"
             ],
             [
              0.8888888888888888,
              "#fdca26"
             ],
             [
              1,
              "#f0f921"
             ]
            ],
            "type": "surface"
           }
          ],
          "table": [
           {
            "cells": {
             "fill": {
              "color": "#EBF0F8"
             },
             "line": {
              "color": "white"
             }
            },
            "header": {
             "fill": {
              "color": "#C8D4E3"
             },
             "line": {
              "color": "white"
             }
            },
            "type": "table"
           }
          ]
         },
         "layout": {
          "annotationdefaults": {
           "arrowcolor": "#2a3f5f",
           "arrowhead": 0,
           "arrowwidth": 1
          },
          "autotypenumbers": "strict",
          "coloraxis": {
           "colorbar": {
            "outlinewidth": 0,
            "ticks": ""
           }
          },
          "colorscale": {
           "diverging": [
            [
             0,
             "#8e0152"
            ],
            [
             0.1,
             "#c51b7d"
            ],
            [
             0.2,
             "#de77ae"
            ],
            [
             0.3,
             "#f1b6da"
            ],
            [
             0.4,
             "#fde0ef"
            ],
            [
             0.5,
             "#f7f7f7"
            ],
            [
             0.6,
             "#e6f5d0"
            ],
            [
             0.7,
             "#b8e186"
            ],
            [
             0.8,
             "#7fbc41"
            ],
            [
             0.9,
             "#4d9221"
            ],
            [
             1,
             "#276419"
            ]
           ],
           "sequential": [
            [
             0,
             "#0d0887"
            ],
            [
             0.1111111111111111,
             "#46039f"
            ],
            [
             0.2222222222222222,
             "#7201a8"
            ],
            [
             0.3333333333333333,
             "#9c179e"
            ],
            [
             0.4444444444444444,
             "#bd3786"
            ],
            [
             0.5555555555555556,
             "#d8576b"
            ],
            [
             0.6666666666666666,
             "#ed7953"
            ],
            [
             0.7777777777777778,
             "#fb9f3a"
            ],
            [
             0.8888888888888888,
             "#fdca26"
            ],
            [
             1,
             "#f0f921"
            ]
           ],
           "sequentialminus": [
            [
             0,
             "#0d0887"
            ],
            [
             0.1111111111111111,
             "#46039f"
            ],
            [
             0.2222222222222222,
             "#7201a8"
            ],
            [
             0.3333333333333333,
             "#9c179e"
            ],
            [
             0.4444444444444444,
             "#bd3786"
            ],
            [
             0.5555555555555556,
             "#d8576b"
            ],
            [
             0.6666666666666666,
             "#ed7953"
            ],
            [
             0.7777777777777778,
             "#fb9f3a"
            ],
            [
             0.8888888888888888,
             "#fdca26"
            ],
            [
             1,
             "#f0f921"
            ]
           ]
          },
          "colorway": [
           "#636efa",
           "#EF553B",
           "#00cc96",
           "#ab63fa",
           "#FFA15A",
           "#19d3f3",
           "#FF6692",
           "#B6E880",
           "#FF97FF",
           "#FECB52"
          ],
          "font": {
           "color": "#2a3f5f"
          },
          "geo": {
           "bgcolor": "white",
           "lakecolor": "white",
           "landcolor": "#E5ECF6",
           "showlakes": true,
           "showland": true,
           "subunitcolor": "white"
          },
          "hoverlabel": {
           "align": "left"
          },
          "hovermode": "closest",
          "mapbox": {
           "style": "light"
          },
          "paper_bgcolor": "white",
          "plot_bgcolor": "#E5ECF6",
          "polar": {
           "angularaxis": {
            "gridcolor": "white",
            "linecolor": "white",
            "ticks": ""
           },
           "bgcolor": "#E5ECF6",
           "radialaxis": {
            "gridcolor": "white",
            "linecolor": "white",
            "ticks": ""
           }
          },
          "scene": {
           "xaxis": {
            "backgroundcolor": "#E5ECF6",
            "gridcolor": "white",
            "gridwidth": 2,
            "linecolor": "white",
            "showbackground": true,
            "ticks": "",
            "zerolinecolor": "white"
           },
           "yaxis": {
            "backgroundcolor": "#E5ECF6",
            "gridcolor": "white",
            "gridwidth": 2,
            "linecolor": "white",
            "showbackground": true,
            "ticks": "",
            "zerolinecolor": "white"
           },
           "zaxis": {
            "backgroundcolor": "#E5ECF6",
            "gridcolor": "white",
            "gridwidth": 2,
            "linecolor": "white",
            "showbackground": true,
            "ticks": "",
            "zerolinecolor": "white"
           }
          },
          "shapedefaults": {
           "line": {
            "color": "#2a3f5f"
           }
          },
          "ternary": {
           "aaxis": {
            "gridcolor": "white",
            "linecolor": "white",
            "ticks": ""
           },
           "baxis": {
            "gridcolor": "white",
            "linecolor": "white",
            "ticks": ""
           },
           "bgcolor": "#E5ECF6",
           "caxis": {
            "gridcolor": "white",
            "linecolor": "white",
            "ticks": ""
           }
          },
          "title": {
           "x": 0.05
          },
          "xaxis": {
           "automargin": true,
           "gridcolor": "white",
           "linecolor": "white",
           "ticks": "",
           "title": {
            "standoff": 15
           },
           "zerolinecolor": "white",
           "zerolinewidth": 2
          },
          "yaxis": {
           "automargin": true,
           "gridcolor": "white",
           "linecolor": "white",
           "ticks": "",
           "title": {
            "standoff": 15
           },
           "zerolinecolor": "white",
           "zerolinewidth": 2
          }
         }
        },
        "width": 900,
        "xaxis": {
         "anchor": "y",
         "domain": [
          0,
          1
         ],
         "title": {
          "text": "Fecha"
         }
        },
        "yaxis": {
         "anchor": "x",
         "domain": [
          0,
          1
         ],
         "title": {
          "text": "Potencia (W)"
         }
        }
       }
      },
      "text/html": [
       "<div>                            <div id=\"f0332a16-589b-46a1-863b-4c0301ca571c\" class=\"plotly-graph-div\" style=\"height:500px; width:900px;\"></div>            <script type=\"text/javascript\">                require([\"plotly\"], function(Plotly) {                    window.PLOTLYENV=window.PLOTLYENV || {};                                    if (document.getElementById(\"f0332a16-589b-46a1-863b-4c0301ca571c\")) {                    Plotly.newPlot(                        \"f0332a16-589b-46a1-863b-4c0301ca571c\",                        [{\"hovertemplate\":\"Dispositivos=Main<br>Fecha=%{x}<br>Potencia (W)=%{y}<extra></extra>\",\"legendgroup\":\"Main\",\"line\":{\"color\":\"#636efa\",\"dash\":\"solid\"},\"marker\":{\"symbol\":\"circle\"},\"mode\":\"lines\",\"name\":\"Main\",\"orientation\":\"v\",\"showlegend\":true,\"x\":[\"2023-03-07T12:10:00+01:00\",\"2023-03-07T12:11:00+01:00\",\"2023-03-07T12:12:00+01:00\",\"2023-03-07T12:13:00+01:00\",\"2023-03-07T12:14:00+01:00\",\"2023-03-07T12:15:00+01:00\",\"2023-03-07T12:16:00+01:00\",\"2023-03-07T12:17:00+01:00\",\"2023-03-07T12:18:00+01:00\",\"2023-03-07T12:19:00+01:00\",\"2023-03-07T12:20:00+01:00\",\"2023-03-07T12:21:00+01:00\",\"2023-03-07T12:22:00+01:00\",\"2023-03-07T12:23:00+01:00\",\"2023-03-07T12:24:00+01:00\",\"2023-03-07T12:25:00+01:00\",\"2023-03-07T12:26:00+01:00\",\"2023-03-07T12:27:00+01:00\",\"2023-03-07T12:28:00+01:00\",\"2023-03-07T12:29:00+01:00\",\"2023-03-07T12:30:00+01:00\",\"2023-03-07T12:31:00+01:00\",\"2023-03-07T12:32:00+01:00\",\"2023-03-07T12:33:00+01:00\",\"2023-03-07T12:34:00+01:00\",\"2023-03-07T12:35:00+01:00\",\"2023-03-07T12:36:00+01:00\",\"2023-03-07T12:37:00+01:00\",\"2023-03-07T12:38:00+01:00\",\"2023-03-07T12:39:00+01:00\",\"2023-03-07T12:40:00+01:00\",\"2023-03-07T12:41:00+01:00\"],\"xaxis\":\"x\",\"y\":[353.0,353.0,353.0,353.0,353.0,353.0,353.0,353.0,353.0,353.0,353.0,353.0,353.0,353.0,353.0,353.0,353.0,353.0,353.0,353.0,353.0,353.0,353.0,353.0,353.0,353.0,353.0,353.0,353.0,353.0,353.0,353.0],\"yaxis\":\"y\",\"type\":\"scatter\"},{\"hovertemplate\":\"Dispositivos=Electric furnace<br>Fecha=%{x}<br>Potencia (W)=%{y}<extra></extra>\",\"legendgroup\":\"Electric furnace\",\"line\":{\"color\":\"#EF553B\",\"dash\":\"solid\"},\"marker\":{\"symbol\":\"circle\"},\"mode\":\"lines\",\"name\":\"Electric furnace\",\"orientation\":\"v\",\"showlegend\":true,\"x\":[\"2023-03-07T12:10:00+01:00\",\"2023-03-07T12:11:00+01:00\",\"2023-03-07T12:12:00+01:00\",\"2023-03-07T12:13:00+01:00\",\"2023-03-07T12:14:00+01:00\",\"2023-03-07T12:15:00+01:00\",\"2023-03-07T12:16:00+01:00\",\"2023-03-07T12:17:00+01:00\",\"2023-03-07T12:18:00+01:00\",\"2023-03-07T12:19:00+01:00\",\"2023-03-07T12:20:00+01:00\",\"2023-03-07T12:21:00+01:00\",\"2023-03-07T12:22:00+01:00\",\"2023-03-07T12:23:00+01:00\",\"2023-03-07T12:24:00+01:00\",\"2023-03-07T12:25:00+01:00\",\"2023-03-07T12:26:00+01:00\",\"2023-03-07T12:27:00+01:00\",\"2023-03-07T12:28:00+01:00\",\"2023-03-07T12:29:00+01:00\",\"2023-03-07T12:30:00+01:00\",\"2023-03-07T12:31:00+01:00\",\"2023-03-07T12:32:00+01:00\",\"2023-03-07T12:33:00+01:00\",\"2023-03-07T12:34:00+01:00\",\"2023-03-07T12:35:00+01:00\",\"2023-03-07T12:36:00+01:00\",\"2023-03-07T12:37:00+01:00\",\"2023-03-07T12:38:00+01:00\",\"2023-03-07T12:39:00+01:00\",\"2023-03-07T12:40:00+01:00\",\"2023-03-07T12:41:00+01:00\"],\"xaxis\":\"x\",\"y\":[277.0,277.0,277.0,277.0,277.0,277.0,277.0,277.0,277.0,277.0,277.0,277.0,277.0,277.0,277.0,277.0,277.0,277.0,277.0,277.0,277.0,277.0,277.0,277.0,277.0,277.0,277.0,277.0,277.0,277.0,277.0,277.0],\"yaxis\":\"y\",\"type\":\"scatter\"},{\"hovertemplate\":\"Dispositivos=Microwave<br>Fecha=%{x}<br>Potencia (W)=%{y}<extra></extra>\",\"legendgroup\":\"Microwave\",\"line\":{\"color\":\"#00cc96\",\"dash\":\"solid\"},\"marker\":{\"symbol\":\"circle\"},\"mode\":\"lines\",\"name\":\"Microwave\",\"orientation\":\"v\",\"showlegend\":true,\"x\":[\"2023-03-07T12:10:00+01:00\",\"2023-03-07T12:11:00+01:00\",\"2023-03-07T12:12:00+01:00\",\"2023-03-07T12:13:00+01:00\",\"2023-03-07T12:14:00+01:00\",\"2023-03-07T12:15:00+01:00\",\"2023-03-07T12:16:00+01:00\",\"2023-03-07T12:17:00+01:00\",\"2023-03-07T12:18:00+01:00\",\"2023-03-07T12:19:00+01:00\",\"2023-03-07T12:20:00+01:00\",\"2023-03-07T12:21:00+01:00\",\"2023-03-07T12:22:00+01:00\",\"2023-03-07T12:23:00+01:00\",\"2023-03-07T12:24:00+01:00\",\"2023-03-07T12:25:00+01:00\",\"2023-03-07T12:26:00+01:00\",\"2023-03-07T12:27:00+01:00\",\"2023-03-07T12:28:00+01:00\",\"2023-03-07T12:29:00+01:00\",\"2023-03-07T12:30:00+01:00\",\"2023-03-07T12:31:00+01:00\",\"2023-03-07T12:32:00+01:00\",\"2023-03-07T12:33:00+01:00\",\"2023-03-07T12:34:00+01:00\",\"2023-03-07T12:35:00+01:00\",\"2023-03-07T12:36:00+01:00\",\"2023-03-07T12:37:00+01:00\",\"2023-03-07T12:38:00+01:00\",\"2023-03-07T12:39:00+01:00\",\"2023-03-07T12:40:00+01:00\",\"2023-03-07T12:41:00+01:00\"],\"xaxis\":\"x\",\"y\":[4.0,4.0,37.0,37.0,37.0,37.0,4.0,4.0,4.0,4.0,37.0,37.0,4.0,4.0,37.0,37.0,4.0,4.0,4.0,4.0,37.0,37.0,4.0,4.0,4.0,4.0,37.0,37.0,37.0,37.0,4.0,4.0],\"yaxis\":\"y\",\"type\":\"scatter\"},{\"hovertemplate\":\"Dispositivos=Television<br>Fecha=%{x}<br>Potencia (W)=%{y}<extra></extra>\",\"legendgroup\":\"Television\",\"line\":{\"color\":\"#ab63fa\",\"dash\":\"solid\"},\"marker\":{\"symbol\":\"circle\"},\"mode\":\"lines\",\"name\":\"Television\",\"orientation\":\"v\",\"showlegend\":true,\"x\":[\"2023-03-07T12:10:00+01:00\",\"2023-03-07T12:11:00+01:00\",\"2023-03-07T12:12:00+01:00\",\"2023-03-07T12:13:00+01:00\",\"2023-03-07T12:14:00+01:00\",\"2023-03-07T12:15:00+01:00\",\"2023-03-07T12:16:00+01:00\",\"2023-03-07T12:17:00+01:00\",\"2023-03-07T12:18:00+01:00\",\"2023-03-07T12:19:00+01:00\",\"2023-03-07T12:20:00+01:00\",\"2023-03-07T12:21:00+01:00\",\"2023-03-07T12:22:00+01:00\",\"2023-03-07T12:23:00+01:00\",\"2023-03-07T12:24:00+01:00\",\"2023-03-07T12:25:00+01:00\",\"2023-03-07T12:26:00+01:00\",\"2023-03-07T12:27:00+01:00\",\"2023-03-07T12:28:00+01:00\",\"2023-03-07T12:29:00+01:00\",\"2023-03-07T12:30:00+01:00\",\"2023-03-07T12:31:00+01:00\",\"2023-03-07T12:32:00+01:00\",\"2023-03-07T12:33:00+01:00\",\"2023-03-07T12:34:00+01:00\",\"2023-03-07T12:35:00+01:00\",\"2023-03-07T12:36:00+01:00\",\"2023-03-07T12:37:00+01:00\",\"2023-03-07T12:38:00+01:00\",\"2023-03-07T12:39:00+01:00\",\"2023-03-07T12:40:00+01:00\",\"2023-03-07T12:41:00+01:00\"],\"xaxis\":\"x\",\"y\":[321.0,321.0,321.0,321.0,321.0,321.0,321.0,321.0,321.0,321.0,321.0,321.0,321.0,321.0,321.0,321.0,321.0,321.0,321.0,321.0,321.0,321.0,321.0,321.0,321.0,321.0,321.0,321.0,321.0,321.0,321.0,321.0],\"yaxis\":\"y\",\"type\":\"scatter\"},{\"hovertemplate\":\"Dispositivos=Kettle<br>Fecha=%{x}<br>Potencia (W)=%{y}<extra></extra>\",\"legendgroup\":\"Kettle\",\"line\":{\"color\":\"#FFA15A\",\"dash\":\"solid\"},\"marker\":{\"symbol\":\"circle\"},\"mode\":\"lines\",\"name\":\"Kettle\",\"orientation\":\"v\",\"showlegend\":true,\"x\":[\"2023-03-07T12:10:00+01:00\",\"2023-03-07T12:11:00+01:00\",\"2023-03-07T12:12:00+01:00\",\"2023-03-07T12:13:00+01:00\",\"2023-03-07T12:14:00+01:00\",\"2023-03-07T12:15:00+01:00\",\"2023-03-07T12:16:00+01:00\",\"2023-03-07T12:17:00+01:00\",\"2023-03-07T12:18:00+01:00\",\"2023-03-07T12:19:00+01:00\",\"2023-03-07T12:20:00+01:00\",\"2023-03-07T12:21:00+01:00\",\"2023-03-07T12:22:00+01:00\",\"2023-03-07T12:23:00+01:00\",\"2023-03-07T12:24:00+01:00\",\"2023-03-07T12:25:00+01:00\",\"2023-03-07T12:26:00+01:00\",\"2023-03-07T12:27:00+01:00\",\"2023-03-07T12:28:00+01:00\",\"2023-03-07T12:29:00+01:00\",\"2023-03-07T12:30:00+01:00\",\"2023-03-07T12:31:00+01:00\",\"2023-03-07T12:32:00+01:00\",\"2023-03-07T12:33:00+01:00\",\"2023-03-07T12:34:00+01:00\",\"2023-03-07T12:35:00+01:00\",\"2023-03-07T12:36:00+01:00\",\"2023-03-07T12:37:00+01:00\",\"2023-03-07T12:38:00+01:00\",\"2023-03-07T12:39:00+01:00\",\"2023-03-07T12:40:00+01:00\",\"2023-03-07T12:41:00+01:00\"],\"xaxis\":\"x\",\"y\":[164.0,164.0,164.0,164.0,164.0,164.0,164.0,164.0,164.0,164.0,164.0,164.0,164.0,164.0,164.0,164.0,164.0,164.0,164.0,164.0,164.0,164.0,164.0,164.0,164.0,164.0,164.0,164.0,164.0,164.0,164.0,164.0],\"yaxis\":\"y\",\"type\":\"scatter\"},{\"hovertemplate\":\"Dispositivos=Vacuum cleaner<br>Fecha=%{x}<br>Potencia (W)=%{y}<extra></extra>\",\"legendgroup\":\"Vacuum cleaner\",\"line\":{\"color\":\"#19d3f3\",\"dash\":\"solid\"},\"marker\":{\"symbol\":\"circle\"},\"mode\":\"lines\",\"name\":\"Vacuum cleaner\",\"orientation\":\"v\",\"showlegend\":true,\"x\":[\"2023-03-07T12:10:00+01:00\",\"2023-03-07T12:11:00+01:00\",\"2023-03-07T12:12:00+01:00\",\"2023-03-07T12:13:00+01:00\",\"2023-03-07T12:14:00+01:00\",\"2023-03-07T12:15:00+01:00\",\"2023-03-07T12:16:00+01:00\",\"2023-03-07T12:17:00+01:00\",\"2023-03-07T12:18:00+01:00\",\"2023-03-07T12:19:00+01:00\",\"2023-03-07T12:20:00+01:00\",\"2023-03-07T12:21:00+01:00\",\"2023-03-07T12:22:00+01:00\",\"2023-03-07T12:23:00+01:00\",\"2023-03-07T12:24:00+01:00\",\"2023-03-07T12:25:00+01:00\",\"2023-03-07T12:26:00+01:00\",\"2023-03-07T12:27:00+01:00\",\"2023-03-07T12:28:00+01:00\",\"2023-03-07T12:29:00+01:00\",\"2023-03-07T12:30:00+01:00\",\"2023-03-07T12:31:00+01:00\",\"2023-03-07T12:32:00+01:00\",\"2023-03-07T12:33:00+01:00\",\"2023-03-07T12:34:00+01:00\",\"2023-03-07T12:35:00+01:00\",\"2023-03-07T12:36:00+01:00\",\"2023-03-07T12:37:00+01:00\",\"2023-03-07T12:38:00+01:00\",\"2023-03-07T12:39:00+01:00\",\"2023-03-07T12:40:00+01:00\",\"2023-03-07T12:41:00+01:00\"],\"xaxis\":\"x\",\"y\":[353.0,353.0,353.0,353.0,353.0,353.0,353.0,353.0,353.0,353.0,353.0,353.0,353.0,353.0,353.0,353.0,353.0,353.0,353.0,353.0,353.0,353.0,353.0,353.0,353.0,353.0,353.0,353.0,353.0,353.0,353.0,353.0],\"yaxis\":\"y\",\"type\":\"scatter\"},{\"hovertemplate\":\"Dispositivos=Electric space heater<br>Fecha=%{x}<br>Potencia (W)=%{y}<extra></extra>\",\"legendgroup\":\"Electric space heater\",\"line\":{\"color\":\"#FF6692\",\"dash\":\"solid\"},\"marker\":{\"symbol\":\"circle\"},\"mode\":\"lines\",\"name\":\"Electric space heater\",\"orientation\":\"v\",\"showlegend\":true,\"x\":[\"2023-03-07T12:10:00+01:00\",\"2023-03-07T12:11:00+01:00\",\"2023-03-07T12:12:00+01:00\",\"2023-03-07T12:13:00+01:00\",\"2023-03-07T12:14:00+01:00\",\"2023-03-07T12:15:00+01:00\",\"2023-03-07T12:16:00+01:00\",\"2023-03-07T12:17:00+01:00\",\"2023-03-07T12:18:00+01:00\",\"2023-03-07T12:19:00+01:00\",\"2023-03-07T12:20:00+01:00\",\"2023-03-07T12:21:00+01:00\",\"2023-03-07T12:22:00+01:00\",\"2023-03-07T12:23:00+01:00\",\"2023-03-07T12:24:00+01:00\",\"2023-03-07T12:25:00+01:00\",\"2023-03-07T12:26:00+01:00\",\"2023-03-07T12:27:00+01:00\",\"2023-03-07T12:28:00+01:00\",\"2023-03-07T12:29:00+01:00\",\"2023-03-07T12:30:00+01:00\",\"2023-03-07T12:31:00+01:00\",\"2023-03-07T12:32:00+01:00\",\"2023-03-07T12:33:00+01:00\",\"2023-03-07T12:34:00+01:00\",\"2023-03-07T12:35:00+01:00\",\"2023-03-07T12:36:00+01:00\",\"2023-03-07T12:37:00+01:00\",\"2023-03-07T12:38:00+01:00\",\"2023-03-07T12:39:00+01:00\",\"2023-03-07T12:40:00+01:00\",\"2023-03-07T12:41:00+01:00\"],\"xaxis\":\"x\",\"y\":[9.0,9.0,1160.0,1160.0,9.0,9.0,9.0,9.0,9.0,9.0,1160.0,1160.0,9.0,9.0,1160.0,1160.0,9.0,9.0,9.0,9.0,1160.0,1160.0,9.0,9.0,1159.0,1159.0,9.0,9.0,9.0,9.0,1159.0,1159.0],\"yaxis\":\"y\",\"type\":\"scatter\"},{\"hovertemplate\":\"Dispositivos=Electric shower heater<br>Fecha=%{x}<br>Potencia (W)=%{y}<extra></extra>\",\"legendgroup\":\"Electric shower heater\",\"line\":{\"color\":\"#B6E880\",\"dash\":\"solid\"},\"marker\":{\"symbol\":\"circle\"},\"mode\":\"lines\",\"name\":\"Electric shower heater\",\"orientation\":\"v\",\"showlegend\":true,\"x\":[\"2023-03-07T12:10:00+01:00\",\"2023-03-07T12:11:00+01:00\",\"2023-03-07T12:12:00+01:00\",\"2023-03-07T12:13:00+01:00\",\"2023-03-07T12:14:00+01:00\",\"2023-03-07T12:15:00+01:00\",\"2023-03-07T12:16:00+01:00\",\"2023-03-07T12:17:00+01:00\",\"2023-03-07T12:18:00+01:00\",\"2023-03-07T12:19:00+01:00\",\"2023-03-07T12:20:00+01:00\",\"2023-03-07T12:21:00+01:00\",\"2023-03-07T12:22:00+01:00\",\"2023-03-07T12:23:00+01:00\",\"2023-03-07T12:24:00+01:00\",\"2023-03-07T12:25:00+01:00\",\"2023-03-07T12:26:00+01:00\",\"2023-03-07T12:27:00+01:00\",\"2023-03-07T12:28:00+01:00\",\"2023-03-07T12:29:00+01:00\",\"2023-03-07T12:30:00+01:00\",\"2023-03-07T12:31:00+01:00\",\"2023-03-07T12:32:00+01:00\",\"2023-03-07T12:33:00+01:00\",\"2023-03-07T12:34:00+01:00\",\"2023-03-07T12:35:00+01:00\",\"2023-03-07T12:36:00+01:00\",\"2023-03-07T12:37:00+01:00\",\"2023-03-07T12:38:00+01:00\",\"2023-03-07T12:39:00+01:00\",\"2023-03-07T12:40:00+01:00\",\"2023-03-07T12:41:00+01:00\"],\"xaxis\":\"x\",\"y\":[8.0,8.0,35.0,35.0,35.0,35.0,8.0,8.0,8.0,8.0,35.0,35.0,8.0,8.0,35.0,35.0,8.0,8.0,34.0,34.0,35.0,35.0,8.0,8.0,8.0,8.0,35.0,35.0,35.0,35.0,8.0,8.0],\"yaxis\":\"y\",\"type\":\"scatter\"},{\"hovertemplate\":\"Dispositivos=Fan<br>Fecha=%{x}<br>Potencia (W)=%{y}<extra></extra>\",\"legendgroup\":\"Fan\",\"line\":{\"color\":\"#FF97FF\",\"dash\":\"solid\"},\"marker\":{\"symbol\":\"circle\"},\"mode\":\"lines\",\"name\":\"Fan\",\"orientation\":\"v\",\"showlegend\":true,\"x\":[\"2023-03-07T12:10:00+01:00\",\"2023-03-07T12:11:00+01:00\",\"2023-03-07T12:12:00+01:00\",\"2023-03-07T12:13:00+01:00\",\"2023-03-07T12:14:00+01:00\",\"2023-03-07T12:15:00+01:00\",\"2023-03-07T12:16:00+01:00\",\"2023-03-07T12:17:00+01:00\",\"2023-03-07T12:18:00+01:00\",\"2023-03-07T12:19:00+01:00\",\"2023-03-07T12:20:00+01:00\",\"2023-03-07T12:21:00+01:00\",\"2023-03-07T12:22:00+01:00\",\"2023-03-07T12:23:00+01:00\",\"2023-03-07T12:24:00+01:00\",\"2023-03-07T12:25:00+01:00\",\"2023-03-07T12:26:00+01:00\",\"2023-03-07T12:27:00+01:00\",\"2023-03-07T12:28:00+01:00\",\"2023-03-07T12:29:00+01:00\",\"2023-03-07T12:30:00+01:00\",\"2023-03-07T12:31:00+01:00\",\"2023-03-07T12:32:00+01:00\",\"2023-03-07T12:33:00+01:00\",\"2023-03-07T12:34:00+01:00\",\"2023-03-07T12:35:00+01:00\",\"2023-03-07T12:36:00+01:00\",\"2023-03-07T12:37:00+01:00\",\"2023-03-07T12:38:00+01:00\",\"2023-03-07T12:39:00+01:00\",\"2023-03-07T12:40:00+01:00\",\"2023-03-07T12:41:00+01:00\"],\"xaxis\":\"x\",\"y\":[25.0,25.0,25.0,25.0,25.0,25.0,25.0,25.0,25.0,25.0,25.0,25.0,25.0,25.0,25.0,25.0,25.0,25.0,25.0,25.0,25.0,25.0,25.0,25.0,25.0,25.0,25.0,25.0,25.0,25.0,25.0,25.0],\"yaxis\":\"y\",\"type\":\"scatter\"},{\"hovertemplate\":\"Dispositivos=Fridge<br>Fecha=%{x}<br>Potencia (W)=%{y}<extra></extra>\",\"legendgroup\":\"Fridge\",\"line\":{\"color\":\"#FECB52\",\"dash\":\"solid\"},\"marker\":{\"symbol\":\"circle\"},\"mode\":\"lines\",\"name\":\"Fridge\",\"orientation\":\"v\",\"showlegend\":true,\"x\":[\"2023-03-07T12:10:00+01:00\",\"2023-03-07T12:11:00+01:00\",\"2023-03-07T12:12:00+01:00\",\"2023-03-07T12:13:00+01:00\",\"2023-03-07T12:14:00+01:00\",\"2023-03-07T12:15:00+01:00\",\"2023-03-07T12:16:00+01:00\",\"2023-03-07T12:17:00+01:00\",\"2023-03-07T12:18:00+01:00\",\"2023-03-07T12:19:00+01:00\",\"2023-03-07T12:20:00+01:00\",\"2023-03-07T12:21:00+01:00\",\"2023-03-07T12:22:00+01:00\",\"2023-03-07T12:23:00+01:00\",\"2023-03-07T12:24:00+01:00\",\"2023-03-07T12:25:00+01:00\",\"2023-03-07T12:26:00+01:00\",\"2023-03-07T12:27:00+01:00\",\"2023-03-07T12:28:00+01:00\",\"2023-03-07T12:29:00+01:00\",\"2023-03-07T12:30:00+01:00\",\"2023-03-07T12:31:00+01:00\",\"2023-03-07T12:32:00+01:00\",\"2023-03-07T12:33:00+01:00\",\"2023-03-07T12:34:00+01:00\",\"2023-03-07T12:35:00+01:00\",\"2023-03-07T12:36:00+01:00\",\"2023-03-07T12:37:00+01:00\",\"2023-03-07T12:38:00+01:00\",\"2023-03-07T12:39:00+01:00\",\"2023-03-07T12:40:00+01:00\",\"2023-03-07T12:41:00+01:00\"],\"xaxis\":\"x\",\"y\":[18.0,18.0,18.0,18.0,18.0,18.0,18.0,18.0,18.0,18.0,18.0,18.0,18.0,18.0,18.0,18.0,18.0,18.0,18.0,18.0,18.0,18.0,18.0,18.0,18.0,18.0,18.0,18.0,18.0,18.0,18.0,18.0],\"yaxis\":\"y\",\"type\":\"scatter\"}],                        {\"template\":{\"data\":{\"histogram2dcontour\":[{\"type\":\"histogram2dcontour\",\"colorbar\":{\"outlinewidth\":0,\"ticks\":\"\"},\"colorscale\":[[0.0,\"#0d0887\"],[0.1111111111111111,\"#46039f\"],[0.2222222222222222,\"#7201a8\"],[0.3333333333333333,\"#9c179e\"],[0.4444444444444444,\"#bd3786\"],[0.5555555555555556,\"#d8576b\"],[0.6666666666666666,\"#ed7953\"],[0.7777777777777778,\"#fb9f3a\"],[0.8888888888888888,\"#fdca26\"],[1.0,\"#f0f921\"]]}],\"choropleth\":[{\"type\":\"choropleth\",\"colorbar\":{\"outlinewidth\":0,\"ticks\":\"\"}}],\"histogram2d\":[{\"type\":\"histogram2d\",\"colorbar\":{\"outlinewidth\":0,\"ticks\":\"\"},\"colorscale\":[[0.0,\"#0d0887\"],[0.1111111111111111,\"#46039f\"],[0.2222222222222222,\"#7201a8\"],[0.3333333333333333,\"#9c179e\"],[0.4444444444444444,\"#bd3786\"],[0.5555555555555556,\"#d8576b\"],[0.6666666666666666,\"#ed7953\"],[0.7777777777777778,\"#fb9f3a\"],[0.8888888888888888,\"#fdca26\"],[1.0,\"#f0f921\"]]}],\"heatmap\":[{\"type\":\"heatmap\",\"colorbar\":{\"outlinewidth\":0,\"ticks\":\"\"},\"colorscale\":[[0.0,\"#0d0887\"],[0.1111111111111111,\"#46039f\"],[0.2222222222222222,\"#7201a8\"],[0.3333333333333333,\"#9c179e\"],[0.4444444444444444,\"#bd3786\"],[0.5555555555555556,\"#d8576b\"],[0.6666666666666666,\"#ed7953\"],[0.7777777777777778,\"#fb9f3a\"],[0.8888888888888888,\"#fdca26\"],[1.0,\"#f0f921\"]]}],\"heatmapgl\":[{\"type\":\"heatmapgl\",\"colorbar\":{\"outlinewidth\":0,\"ticks\":\"\"},\"colorscale\":[[0.0,\"#0d0887\"],[0.1111111111111111,\"#46039f\"],[0.2222222222222222,\"#7201a8\"],[0.3333333333333333,\"#9c179e\"],[0.4444444444444444,\"#bd3786\"],[0.5555555555555556,\"#d8576b\"],[0.6666666666666666,\"#ed7953\"],[0.7777777777777778,\"#fb9f3a\"],[0.8888888888888888,\"#fdca26\"],[1.0,\"#f0f921\"]]}],\"contourcarpet\":[{\"type\":\"contourcarpet\",\"colorbar\":{\"outlinewidth\":0,\"ticks\":\"\"}}],\"contour\":[{\"type\":\"contour\",\"colorbar\":{\"outlinewidth\":0,\"ticks\":\"\"},\"colorscale\":[[0.0,\"#0d0887\"],[0.1111111111111111,\"#46039f\"],[0.2222222222222222,\"#7201a8\"],[0.3333333333333333,\"#9c179e\"],[0.4444444444444444,\"#bd3786\"],[0.5555555555555556,\"#d8576b\"],[0.6666666666666666,\"#ed7953\"],[0.7777777777777778,\"#fb9f3a\"],[0.8888888888888888,\"#fdca26\"],[1.0,\"#f0f921\"]]}],\"surface\":[{\"type\":\"surface\",\"colorbar\":{\"outlinewidth\":0,\"ticks\":\"\"},\"colorscale\":[[0.0,\"#0d0887\"],[0.1111111111111111,\"#46039f\"],[0.2222222222222222,\"#7201a8\"],[0.3333333333333333,\"#9c179e\"],[0.4444444444444444,\"#bd3786\"],[0.5555555555555556,\"#d8576b\"],[0.6666666666666666,\"#ed7953\"],[0.7777777777777778,\"#fb9f3a\"],[0.8888888888888888,\"#fdca26\"],[1.0,\"#f0f921\"]]}],\"mesh3d\":[{\"type\":\"mesh3d\",\"colorbar\":{\"outlinewidth\":0,\"ticks\":\"\"}}],\"scatter\":[{\"fillpattern\":{\"fillmode\":\"overlay\",\"size\":10,\"solidity\":0.2},\"type\":\"scatter\"}],\"parcoords\":[{\"type\":\"parcoords\",\"line\":{\"colorbar\":{\"outlinewidth\":0,\"ticks\":\"\"}}}],\"scatterpolargl\":[{\"type\":\"scatterpolargl\",\"marker\":{\"colorbar\":{\"outlinewidth\":0,\"ticks\":\"\"}}}],\"bar\":[{\"error_x\":{\"color\":\"#2a3f5f\"},\"error_y\":{\"color\":\"#2a3f5f\"},\"marker\":{\"line\":{\"color\":\"#E5ECF6\",\"width\":0.5},\"pattern\":{\"fillmode\":\"overlay\",\"size\":10,\"solidity\":0.2}},\"type\":\"bar\"}],\"scattergeo\":[{\"type\":\"scattergeo\",\"marker\":{\"colorbar\":{\"outlinewidth\":0,\"ticks\":\"\"}}}],\"scatterpolar\":[{\"type\":\"scatterpolar\",\"marker\":{\"colorbar\":{\"outlinewidth\":0,\"ticks\":\"\"}}}],\"histogram\":[{\"marker\":{\"pattern\":{\"fillmode\":\"overlay\",\"size\":10,\"solidity\":0.2}},\"type\":\"histogram\"}],\"scattergl\":[{\"type\":\"scattergl\",\"marker\":{\"colorbar\":{\"outlinewidth\":0,\"ticks\":\"\"}}}],\"scatter3d\":[{\"type\":\"scatter3d\",\"line\":{\"colorbar\":{\"outlinewidth\":0,\"ticks\":\"\"}},\"marker\":{\"colorbar\":{\"outlinewidth\":0,\"ticks\":\"\"}}}],\"scattermapbox\":[{\"type\":\"scattermapbox\",\"marker\":{\"colorbar\":{\"outlinewidth\":0,\"ticks\":\"\"}}}],\"scatterternary\":[{\"type\":\"scatterternary\",\"marker\":{\"colorbar\":{\"outlinewidth\":0,\"ticks\":\"\"}}}],\"scattercarpet\":[{\"type\":\"scattercarpet\",\"marker\":{\"colorbar\":{\"outlinewidth\":0,\"ticks\":\"\"}}}],\"carpet\":[{\"aaxis\":{\"endlinecolor\":\"#2a3f5f\",\"gridcolor\":\"white\",\"linecolor\":\"white\",\"minorgridcolor\":\"white\",\"startlinecolor\":\"#2a3f5f\"},\"baxis\":{\"endlinecolor\":\"#2a3f5f\",\"gridcolor\":\"white\",\"linecolor\":\"white\",\"minorgridcolor\":\"white\",\"startlinecolor\":\"#2a3f5f\"},\"type\":\"carpet\"}],\"table\":[{\"cells\":{\"fill\":{\"color\":\"#EBF0F8\"},\"line\":{\"color\":\"white\"}},\"header\":{\"fill\":{\"color\":\"#C8D4E3\"},\"line\":{\"color\":\"white\"}},\"type\":\"table\"}],\"barpolar\":[{\"marker\":{\"line\":{\"color\":\"#E5ECF6\",\"width\":0.5},\"pattern\":{\"fillmode\":\"overlay\",\"size\":10,\"solidity\":0.2}},\"type\":\"barpolar\"}],\"pie\":[{\"automargin\":true,\"type\":\"pie\"}]},\"layout\":{\"autotypenumbers\":\"strict\",\"colorway\":[\"#636efa\",\"#EF553B\",\"#00cc96\",\"#ab63fa\",\"#FFA15A\",\"#19d3f3\",\"#FF6692\",\"#B6E880\",\"#FF97FF\",\"#FECB52\"],\"font\":{\"color\":\"#2a3f5f\"},\"hovermode\":\"closest\",\"hoverlabel\":{\"align\":\"left\"},\"paper_bgcolor\":\"white\",\"plot_bgcolor\":\"#E5ECF6\",\"polar\":{\"bgcolor\":\"#E5ECF6\",\"angularaxis\":{\"gridcolor\":\"white\",\"linecolor\":\"white\",\"ticks\":\"\"},\"radialaxis\":{\"gridcolor\":\"white\",\"linecolor\":\"white\",\"ticks\":\"\"}},\"ternary\":{\"bgcolor\":\"#E5ECF6\",\"aaxis\":{\"gridcolor\":\"white\",\"linecolor\":\"white\",\"ticks\":\"\"},\"baxis\":{\"gridcolor\":\"white\",\"linecolor\":\"white\",\"ticks\":\"\"},\"caxis\":{\"gridcolor\":\"white\",\"linecolor\":\"white\",\"ticks\":\"\"}},\"coloraxis\":{\"colorbar\":{\"outlinewidth\":0,\"ticks\":\"\"}},\"colorscale\":{\"sequential\":[[0.0,\"#0d0887\"],[0.1111111111111111,\"#46039f\"],[0.2222222222222222,\"#7201a8\"],[0.3333333333333333,\"#9c179e\"],[0.4444444444444444,\"#bd3786\"],[0.5555555555555556,\"#d8576b\"],[0.6666666666666666,\"#ed7953\"],[0.7777777777777778,\"#fb9f3a\"],[0.8888888888888888,\"#fdca26\"],[1.0,\"#f0f921\"]],\"sequentialminus\":[[0.0,\"#0d0887\"],[0.1111111111111111,\"#46039f\"],[0.2222222222222222,\"#7201a8\"],[0.3333333333333333,\"#9c179e\"],[0.4444444444444444,\"#bd3786\"],[0.5555555555555556,\"#d8576b\"],[0.6666666666666666,\"#ed7953\"],[0.7777777777777778,\"#fb9f3a\"],[0.8888888888888888,\"#fdca26\"],[1.0,\"#f0f921\"]],\"diverging\":[[0,\"#8e0152\"],[0.1,\"#c51b7d\"],[0.2,\"#de77ae\"],[0.3,\"#f1b6da\"],[0.4,\"#fde0ef\"],[0.5,\"#f7f7f7\"],[0.6,\"#e6f5d0\"],[0.7,\"#b8e186\"],[0.8,\"#7fbc41\"],[0.9,\"#4d9221\"],[1,\"#276419\"]]},\"xaxis\":{\"gridcolor\":\"white\",\"linecolor\":\"white\",\"ticks\":\"\",\"title\":{\"standoff\":15},\"zerolinecolor\":\"white\",\"automargin\":true,\"zerolinewidth\":2},\"yaxis\":{\"gridcolor\":\"white\",\"linecolor\":\"white\",\"ticks\":\"\",\"title\":{\"standoff\":15},\"zerolinecolor\":\"white\",\"automargin\":true,\"zerolinewidth\":2},\"scene\":{\"xaxis\":{\"backgroundcolor\":\"#E5ECF6\",\"gridcolor\":\"white\",\"linecolor\":\"white\",\"showbackground\":true,\"ticks\":\"\",\"zerolinecolor\":\"white\",\"gridwidth\":2},\"yaxis\":{\"backgroundcolor\":\"#E5ECF6\",\"gridcolor\":\"white\",\"linecolor\":\"white\",\"showbackground\":true,\"ticks\":\"\",\"zerolinecolor\":\"white\",\"gridwidth\":2},\"zaxis\":{\"backgroundcolor\":\"#E5ECF6\",\"gridcolor\":\"white\",\"linecolor\":\"white\",\"showbackground\":true,\"ticks\":\"\",\"zerolinecolor\":\"white\",\"gridwidth\":2}},\"shapedefaults\":{\"line\":{\"color\":\"#2a3f5f\"}},\"annotationdefaults\":{\"arrowcolor\":\"#2a3f5f\",\"arrowhead\":0,\"arrowwidth\":1},\"geo\":{\"bgcolor\":\"white\",\"landcolor\":\"#E5ECF6\",\"subunitcolor\":\"white\",\"showland\":true,\"showlakes\":true,\"lakecolor\":\"white\"},\"title\":{\"x\":0.05},\"mapbox\":{\"style\":\"light\"}}},\"xaxis\":{\"anchor\":\"y\",\"domain\":[0.0,1.0],\"title\":{\"text\":\"Fecha\"}},\"yaxis\":{\"anchor\":\"x\",\"domain\":[0.0,1.0],\"title\":{\"text\":\"Potencia (W)\"}},\"legend\":{\"title\":{\"text\":\"Dispositivos\"},\"tracegroupgap\":0},\"margin\":{\"t\":60},\"height\":500,\"width\":900},                        {\"responsive\": true}                    ).then(function(){\n",
       "                            \n",
       "var gd = document.getElementById('f0332a16-589b-46a1-863b-4c0301ca571c');\n",
       "var x = new MutationObserver(function (mutations, observer) {{\n",
       "        var display = window.getComputedStyle(gd).display;\n",
       "        if (!display || display === 'none') {{\n",
       "            console.log([gd, 'removed!']);\n",
       "            Plotly.purge(gd);\n",
       "            observer.disconnect();\n",
       "        }}\n",
       "}});\n",
       "\n",
       "// Listen for the removal of the full notebook cells\n",
       "var notebookContainer = gd.closest('#notebook-container');\n",
       "if (notebookContainer) {{\n",
       "    x.observe(notebookContainer, {childList: true});\n",
       "}}\n",
       "\n",
       "// Listen for the clearing of the current output cell\n",
       "var outputEl = gd.closest('.output');\n",
       "if (outputEl) {{\n",
       "    x.observe(outputEl, {childList: true});\n",
       "}}\n",
       "\n",
       "                        })                };                });            </script>        </div>"
      ]
     },
     "metadata": {},
     "output_type": "display_data"
    },
    {
     "name": "stdout",
     "output_type": "stream",
     "text": [
      "Sample_period: 60segundos\n",
      "Start: 07/03/2023 12:10:00\n",
      "End: 07/03/2023 12:41:00\n",
      "!El informe  ya se ha creado!\n"
     ]
    }
   ],
   "source": [
    "#llamada a la función\n",
    "report()"
   ]
  },
  {
   "cell_type": "code",
   "execution_count": null,
   "id": "01fc1bd7",
   "metadata": {},
   "outputs": [],
   "source": []
  },
  {
   "cell_type": "code",
   "execution_count": null,
   "id": "aa992f5a",
   "metadata": {},
   "outputs": [],
   "source": []
  }
 ],
 "metadata": {
  "kernelspec": {
   "display_name": "Python 3",
   "language": "python",
   "name": "python3"
  },
  "language_info": {
   "codemirror_mode": {
    "name": "ipython",
    "version": 3
   },
   "file_extension": ".py",
   "mimetype": "text/x-python",
   "name": "python",
   "nbconvert_exporter": "python",
   "pygments_lexer": "ipython3",
   "version": "3.6.13"
  }
 },
 "nbformat": 4,
 "nbformat_minor": 5
}
